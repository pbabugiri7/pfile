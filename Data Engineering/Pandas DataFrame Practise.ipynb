{
 "cells": [
  {
   "cell_type": "code",
   "execution_count": 1,
   "id": "910d722b",
   "metadata": {},
   "outputs": [],
   "source": [
    "import pandas as pd"
   ]
  },
  {
   "cell_type": "code",
   "execution_count": 2,
   "id": "431071cf",
   "metadata": {},
   "outputs": [],
   "source": [
    "col = ['Name','Surname','Age','Phone_number']\n",
    "ind = ['a','b','c','d']\n",
    "\n",
    "a = pd.DataFrame([\n",
    "                    ['Yogesh','Basnet',23 , 98160],\n",
    "                    ['Prajwal','Giri',23,98760],\n",
    "                    ['Devesh','Mandal',23,9999],\n",
    "                    ['Pravass','Ghatraj',23,888]\n",
    "                 \n",
    "                 \n",
    "                 ], columns = col, index = ind)"
   ]
  },
  {
   "cell_type": "code",
   "execution_count": 3,
   "id": "dc5c5ddb",
   "metadata": {},
   "outputs": [
    {
     "name": "stdout",
     "output_type": "stream",
     "text": [
      "      Name  Surname  Age  Phone_number\n",
      "a   Yogesh   Basnet   23         98160\n",
      "b  Prajwal     Giri   23         98760\n",
      "c   Devesh   Mandal   23          9999\n",
      "d  Pravass  Ghatraj   23           888\n"
     ]
    }
   ],
   "source": [
    "print(a)"
   ]
  },
  {
   "cell_type": "code",
   "execution_count": null,
   "id": "5cf51045",
   "metadata": {},
   "outputs": [],
   "source": []
  }
 ],
 "metadata": {
  "kernelspec": {
   "display_name": "Python 3 (ipykernel)",
   "language": "python",
   "name": "python3"
  },
  "language_info": {
   "codemirror_mode": {
    "name": "ipython",
    "version": 3
   },
   "file_extension": ".py",
   "mimetype": "text/x-python",
   "name": "python",
   "nbconvert_exporter": "python",
   "pygments_lexer": "ipython3",
   "version": "3.10.5"
  }
 },
 "nbformat": 4,
 "nbformat_minor": 5
}
