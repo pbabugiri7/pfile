{
 "cells": [
  {
   "cell_type": "code",
   "execution_count": 1,
   "id": "aa1d7414",
   "metadata": {},
   "outputs": [],
   "source": [
    "n = 'Aeroplane'\n",
    "n[3]"
   ]
  },
  {
   "cell_type": "code",
   "execution_count": 2,
   "id": "58720f20",
   "metadata": {},
   "outputs": [],
   "source": [
    "n[4:]"
   ]
  },
  {
   "cell_type": "code",
   "execution_count": 3,
   "id": "74244776",
   "metadata": {},
   "outputs": [],
   "source": [
    "n[-5:]"
   ]
  },
  {
   "cell_type": "code",
   "execution_count": 4,
   "id": "1ef68682",
   "metadata": {},
   "outputs": [],
   "source": [
    "b = 'Zebra'\n",
    "b[4] = 'a\n",
    "b"
   ]
  },
  {
   "cell_type": "code",
   "execution_count": null,
   "id": "92d7301d",
   "metadata": {},
   "outputs": [],
   "source": [
    "b[2:]"
   ]
  },
  {
   "cell_type": "code",
   "execution_count": null,
   "id": "b87b2f3f",
   "metadata": {},
   "outputs": [],
   "source": [
    "b.index(\"b\")"
   ]
  },
  {
   "cell_type": "markdown",
   "id": "97cf623a",
   "metadata": {},
   "source": [
    "# String \n",
    "# Method\n",
    "* upper\n",
    "* Lower \n",
    "* capitalize\n",
    "* Find \n",
    "* Count\n",
    "* replace\n",
    "* title\n",
    "* casefold"
   ]
  },
  {
   "cell_type": "code",
   "execution_count": 5,
   "id": "532321ef",
   "metadata": {},
   "outputs": [
    {
     "data": {
      "text/plain": [
       "'I LOVE OX'"
      ]
     },
     "execution_count": 5,
     "metadata": {},
     "output_type": "execute_result"
    }
   ],
   "source": [
    "a = 'i love ox'\n",
    "b = a.upper()\n",
    "b"
   ]
  },
  {
   "cell_type": "code",
   "execution_count": 7,
   "id": "e1ae744a",
   "metadata": {},
   "outputs": [
    {
     "data": {
      "text/plain": [
       "9"
      ]
     },
     "execution_count": 7,
     "metadata": {},
     "output_type": "execute_result"
    }
   ],
   "source": [
    "\n",
    "len(a)"
   ]
  },
  {
   "cell_type": "code",
   "execution_count": 8,
   "id": "2b549bf2",
   "metadata": {},
   "outputs": [
    {
     "data": {
      "text/plain": [
       "' '"
      ]
     },
     "execution_count": 8,
     "metadata": {},
     "output_type": "execute_result"
    }
   ],
   "source": [
    "a[1]"
   ]
  },
  {
   "cell_type": "code",
   "execution_count": 14,
   "id": "88d33559",
   "metadata": {},
   "outputs": [
    {
     "data": {
      "text/plain": [
       "'My name is khan'"
      ]
     },
     "execution_count": 14,
     "metadata": {},
     "output_type": "execute_result"
    }
   ],
   "source": [
    "b = 'My Name IS Khan'\n",
    "a = b.lower()\n",
    "a.capitalize()\n"
   ]
  },
  {
   "cell_type": "code",
   "execution_count": null,
   "id": "816644c5",
   "metadata": {},
   "outputs": [],
   "source": []
  }
 ],
 "metadata": {
  "kernelspec": {
   "display_name": "Python 3 (ipykernel)",
   "language": "python",
   "name": "python3"
  },
  "language_info": {
   "codemirror_mode": {
    "name": "ipython",
    "version": 3
   },
   "file_extension": ".py",
   "mimetype": "text/x-python",
   "name": "python",
   "nbconvert_exporter": "python",
   "pygments_lexer": "ipython3",
   "version": "3.10.5"
  }
 },
 "nbformat": 4,
 "nbformat_minor": 5
}
