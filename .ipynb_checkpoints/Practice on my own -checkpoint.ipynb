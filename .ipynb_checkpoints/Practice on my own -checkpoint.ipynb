{
 "cells": [
  {
   "cell_type": "code",
   "execution_count": 1,
   "id": "8281e6d8",
   "metadata": {},
   "outputs": [
    {
     "name": "stdout",
     "output_type": "stream",
     "text": [
      "10\n"
     ]
    }
   ],
   "source": [
    "a = 10\n",
    "print(a)\n"
   ]
  },
  {
   "cell_type": "markdown",
   "id": "80c0d947",
   "metadata": {},
   "source": [
    "# Things i study yesterday \n",
    "* Data types(Integer,String,Boolean,Float)\n",
    "* Variable assign\n",
    "* ID\n",
    "* print function \n",
    "* Formatting \n",
    "* List , Slicing \n"
   ]
  },
  {
   "cell_type": "code",
   "execution_count": 2,
   "id": "80d1eecc",
   "metadata": {},
   "outputs": [],
   "source": [
    "X = True\n"
   ]
  },
  {
   "cell_type": "code",
   "execution_count": 3,
   "id": "46b44f19",
   "metadata": {},
   "outputs": [
    {
     "data": {
      "text/plain": [
       "bool"
      ]
     },
     "execution_count": 3,
     "metadata": {},
     "output_type": "execute_result"
    }
   ],
   "source": [
    "type(X)"
   ]
  },
  {
   "cell_type": "code",
   "execution_count": 4,
   "id": "4e38bff0",
   "metadata": {},
   "outputs": [],
   "source": [
    "C = 1.555555"
   ]
  },
  {
   "cell_type": "code",
   "execution_count": 5,
   "id": "e277025b",
   "metadata": {},
   "outputs": [
    {
     "data": {
      "text/plain": [
       "2169883271184"
      ]
     },
     "execution_count": 5,
     "metadata": {},
     "output_type": "execute_result"
    }
   ],
   "source": [
    "id(C)"
   ]
  },
  {
   "cell_type": "code",
   "execution_count": 6,
   "id": "b2b84c52",
   "metadata": {},
   "outputs": [
    {
     "name": "stdout",
     "output_type": "stream",
     "text": [
      "Yogesh\n"
     ]
    }
   ],
   "source": [
    "Yogesh = 22\n",
    "print('Yogesh')"
   ]
  },
  {
   "cell_type": "code",
   "execution_count": 7,
   "id": "21b4999f",
   "metadata": {},
   "outputs": [
    {
     "name": "stdout",
     "output_type": "stream",
     "text": [
      "The things Yogesh is saying is  True\n"
     ]
    }
   ],
   "source": [
    "# Formatting\n",
    "print('The things Yogesh is saying is ',X)"
   ]
  },
  {
   "cell_type": "code",
   "execution_count": 8,
   "id": "1ce701bd",
   "metadata": {},
   "outputs": [],
   "source": [
    "Salary = 500000"
   ]
  },
  {
   "cell_type": "code",
   "execution_count": 9,
   "id": "4b738e19",
   "metadata": {},
   "outputs": [
    {
     "name": "stdout",
     "output_type": "stream",
     "text": [
      "Yogesh is getting salary of 500000\n"
     ]
    }
   ],
   "source": [
    "print(f'Yogesh is getting salary of {Salary}') #f string"
   ]
  },
  {
   "cell_type": "code",
   "execution_count": 10,
   "id": "c9adc9bc",
   "metadata": {},
   "outputs": [],
   "source": [
    "# Indexing and Slicing\n",
    "Q = ['a','e','i','o','u']"
   ]
  },
  {
   "cell_type": "code",
   "execution_count": 11,
   "id": "74d0d678",
   "metadata": {},
   "outputs": [
    {
     "data": {
      "text/plain": [
       "list"
      ]
     },
     "execution_count": 11,
     "metadata": {},
     "output_type": "execute_result"
    }
   ],
   "source": [
    "type(Q)"
   ]
  },
  {
   "cell_type": "code",
   "execution_count": 12,
   "id": "fc71c31a",
   "metadata": {},
   "outputs": [
    {
     "data": {
      "text/plain": [
       "['a', 'e', 'i', 'o']"
      ]
     },
     "execution_count": 12,
     "metadata": {},
     "output_type": "execute_result"
    }
   ],
   "source": [
    "Q[:4]"
   ]
  },
  {
   "cell_type": "code",
   "execution_count": 13,
   "id": "daa76d15",
   "metadata": {},
   "outputs": [
    {
     "data": {
      "text/plain": [
       "['e', 'i', 'o', 'u']"
      ]
     },
     "execution_count": 13,
     "metadata": {},
     "output_type": "execute_result"
    }
   ],
   "source": [
    "Q[-4:]"
   ]
  },
  {
   "cell_type": "code",
   "execution_count": 14,
   "id": "83312577",
   "metadata": {},
   "outputs": [
    {
     "data": {
      "text/plain": [
       "['a', 'e', 'i']"
      ]
     },
     "execution_count": 14,
     "metadata": {},
     "output_type": "execute_result"
    }
   ],
   "source": [
    "Q[-5:-2]"
   ]
  },
  {
   "cell_type": "code",
   "execution_count": 15,
   "id": "321e784d",
   "metadata": {},
   "outputs": [],
   "source": [
    "P = ['Prithivi','Jaal','Agni','Bayu','Akash']"
   ]
  },
  {
   "cell_type": "code",
   "execution_count": 16,
   "id": "8b26b077",
   "metadata": {},
   "outputs": [
    {
     "data": {
      "text/plain": [
       "list"
      ]
     },
     "execution_count": 16,
     "metadata": {},
     "output_type": "execute_result"
    }
   ],
   "source": [
    "type(P)"
   ]
  },
  {
   "cell_type": "code",
   "execution_count": 17,
   "id": "76aa7f29",
   "metadata": {},
   "outputs": [
    {
     "data": {
      "text/plain": [
       "'Agni'"
      ]
     },
     "execution_count": 17,
     "metadata": {},
     "output_type": "execute_result"
    }
   ],
   "source": [
    "P[2]"
   ]
  },
  {
   "cell_type": "code",
   "execution_count": 18,
   "id": "6900855f",
   "metadata": {},
   "outputs": [
    {
     "data": {
      "text/plain": [
       "['Prithivi', 'Jaal', 'Agni', 'Bayu', 'Akash']"
      ]
     },
     "execution_count": 18,
     "metadata": {},
     "output_type": "execute_result"
    }
   ],
   "source": [
    "P[:]"
   ]
  },
  {
   "cell_type": "code",
   "execution_count": 19,
   "id": "6822cd47",
   "metadata": {},
   "outputs": [
    {
     "data": {
      "text/plain": [
       "['Jaal', 'Agni']"
      ]
     },
     "execution_count": 19,
     "metadata": {},
     "output_type": "execute_result"
    }
   ],
   "source": [
    "P[1:3:1] #[start:End:Jump]"
   ]
  },
  {
   "cell_type": "code",
   "execution_count": 20,
   "id": "5f409aed",
   "metadata": {},
   "outputs": [],
   "source": [
    "Fruits = ['Apple','Orange','Litchi','Cocunut','Peach','Avocado']"
   ]
  },
  {
   "cell_type": "code",
   "execution_count": 21,
   "id": "39db10d5",
   "metadata": {},
   "outputs": [
    {
     "data": {
      "text/plain": [
       "['Litchi', 'Avocado']"
      ]
     },
     "execution_count": 21,
     "metadata": {},
     "output_type": "execute_result"
    }
   ],
   "source": [
    "Fruits[2:6:3]"
   ]
  },
  {
   "cell_type": "markdown",
   "id": "2684c8ca",
   "metadata": {},
   "source": [
    "# Typecasting"
   ]
  },
  {
   "cell_type": "code",
   "execution_count": 22,
   "id": "4e547923",
   "metadata": {},
   "outputs": [
    {
     "data": {
      "text/plain": [
       "44.0"
      ]
     },
     "execution_count": 22,
     "metadata": {},
     "output_type": "execute_result"
    }
   ],
   "source": [
    "A = 44\n",
    "B = float(A)\n",
    "B"
   ]
  },
  {
   "cell_type": "code",
   "execution_count": 23,
   "id": "db48068e",
   "metadata": {},
   "outputs": [
    {
     "data": {
      "text/plain": [
       "1.0"
      ]
     },
     "execution_count": 23,
     "metadata": {},
     "output_type": "execute_result"
    }
   ],
   "source": [
    "C = \"1\"\n",
    "D = float(C)\n",
    "D"
   ]
  },
  {
   "cell_type": "code",
   "execution_count": 24,
   "id": "14047d73",
   "metadata": {},
   "outputs": [
    {
     "data": {
      "text/plain": [
       "'1.0'"
      ]
     },
     "execution_count": 24,
     "metadata": {},
     "output_type": "execute_result"
    }
   ],
   "source": [
    "E = str(D)\n",
    "E"
   ]
  },
  {
   "cell_type": "code",
   "execution_count": 25,
   "id": "61337bb8",
   "metadata": {},
   "outputs": [
    {
     "name": "stdout",
     "output_type": "stream",
     "text": [
      "33\n"
     ]
    },
    {
     "data": {
      "text/plain": [
       "22"
      ]
     },
     "execution_count": 25,
     "metadata": {},
     "output_type": "execute_result"
    }
   ],
   "source": [
    "A = 22\n",
    "B = 33\n",
    "A, B = B, A\n",
    "print(A)\n",
    "B"
   ]
  },
  {
   "cell_type": "code",
   "execution_count": 26,
   "id": "d7276791",
   "metadata": {},
   "outputs": [
    {
     "name": "stdout",
     "output_type": "stream",
     "text": [
      "33\n"
     ]
    },
    {
     "data": {
      "text/plain": [
       "22"
      ]
     },
     "execution_count": 26,
     "metadata": {},
     "output_type": "execute_result"
    }
   ],
   "source": [
    "A = 22\n",
    "B = 33\n",
    "C = A\n",
    "A = B\n",
    "A = C \n",
    "print(B)\n",
    "A\n"
   ]
  },
  {
   "cell_type": "markdown",
   "id": "f2b3c7e1",
   "metadata": {},
   "source": [
    "# List function\n",
    "* Append , Extend , Sorting , Reverse, Pop ,Clear,Count, Insert, Copy, Remove, Len"
   ]
  },
  {
   "cell_type": "code",
   "execution_count": 27,
   "id": "0a00b4cf",
   "metadata": {},
   "outputs": [
    {
     "data": {
      "text/plain": [
       "[1, 2, 3, 4, 5, 6, 7, 8, 9, 10, 11]"
      ]
     },
     "execution_count": 27,
     "metadata": {},
     "output_type": "execute_result"
    }
   ],
   "source": [
    "# Append\n",
    "l = [1,2,3,4,5,6,7,8,9,10]\n",
    "l.append(11)\n",
    "l"
   ]
  },
  {
   "cell_type": "markdown",
   "id": "32468a40",
   "metadata": {},
   "source": [
    "# Extend"
   ]
  },
  {
   "cell_type": "code",
   "execution_count": 28,
   "id": "9a401e15",
   "metadata": {},
   "outputs": [
    {
     "data": {
      "text/plain": [
       "[2, 4, 6, 8, 10, 4, 6, 8]"
      ]
     },
     "execution_count": 28,
     "metadata": {},
     "output_type": "execute_result"
    }
   ],
   "source": [
    "l = [2,4,6,8,10]\n",
    "b = [4,6,8]\n",
    "l.extend(b)\n",
    "l"
   ]
  },
  {
   "cell_type": "code",
   "execution_count": 29,
   "id": "520e14b3",
   "metadata": {},
   "outputs": [
    {
     "data": {
      "text/plain": [
       "[2, 1, 4, 3, 3, 3, 3]"
      ]
     },
     "execution_count": 29,
     "metadata": {},
     "output_type": "execute_result"
    }
   ],
   "source": [
    "l = [2,1,4]\n",
    "l.extend([3,3,3,3])\n",
    "l"
   ]
  },
  {
   "cell_type": "markdown",
   "id": "b14f64ba",
   "metadata": {},
   "source": [
    "# Sorting"
   ]
  },
  {
   "cell_type": "code",
   "execution_count": 30,
   "id": "4a8fceed",
   "metadata": {},
   "outputs": [
    {
     "data": {
      "text/plain": [
       "[1, 2, 3, 4, 5, 7, 10, 33]"
      ]
     },
     "execution_count": 30,
     "metadata": {},
     "output_type": "execute_result"
    }
   ],
   "source": [
    "s = [10,2,1,7,3,33,4,5,]\n",
    "s.sort()\n",
    "s"
   ]
  },
  {
   "cell_type": "code",
   "execution_count": 31,
   "id": "5db78993",
   "metadata": {},
   "outputs": [
    {
     "data": {
      "text/plain": [
       "[88, 66, 9, 6, 5, 4, 3, 2, 1, 1]"
      ]
     },
     "execution_count": 31,
     "metadata": {},
     "output_type": "execute_result"
    }
   ],
   "source": [
    "v = [9,3,1,5,66,2,88,1,6,4]\n",
    "v.sort(reverse = True)\n",
    "v"
   ]
  },
  {
   "cell_type": "markdown",
   "id": "e6b05424",
   "metadata": {},
   "source": [
    "# Reverse"
   ]
  },
  {
   "cell_type": "code",
   "execution_count": 32,
   "id": "4fd0812b",
   "metadata": {},
   "outputs": [
    {
     "data": {
      "text/plain": [
       "[9, 7, 6, 5, 1, 4, 2]"
      ]
     },
     "execution_count": 32,
     "metadata": {},
     "output_type": "execute_result"
    }
   ],
   "source": [
    "y = [2,4,1,5,6,7,9]\n",
    "y.reverse()\n",
    "y"
   ]
  },
  {
   "cell_type": "markdown",
   "id": "519878db",
   "metadata": {},
   "source": [
    "# Pop"
   ]
  },
  {
   "cell_type": "code",
   "execution_count": 33,
   "id": "e3a6a03d",
   "metadata": {},
   "outputs": [
    {
     "data": {
      "text/plain": [
       "[23, 1, 6, 8, 10, 11]"
      ]
     },
     "execution_count": 33,
     "metadata": {},
     "output_type": "execute_result"
    }
   ],
   "source": [
    "k = [23,1,6,8,10,11,19]\n",
    "k.pop()\n",
    "k"
   ]
  },
  {
   "cell_type": "code",
   "execution_count": 34,
   "id": "5f393601",
   "metadata": {},
   "outputs": [
    {
     "data": {
      "text/plain": [
       "[9, 5, 1, 7, 4]"
      ]
     },
     "execution_count": 34,
     "metadata": {},
     "output_type": "execute_result"
    }
   ],
   "source": [
    "q = [9,2,5,1,7,4]\n",
    "q.pop(1)\n",
    "q"
   ]
  },
  {
   "cell_type": "markdown",
   "id": "d811eb5e",
   "metadata": {},
   "source": [
    "# Clear"
   ]
  },
  {
   "cell_type": "code",
   "execution_count": 35,
   "id": "fa26927c",
   "metadata": {},
   "outputs": [
    {
     "data": {
      "text/plain": [
       "[]"
      ]
     },
     "execution_count": 35,
     "metadata": {},
     "output_type": "execute_result"
    }
   ],
   "source": [
    "g = [5,3,1,7,2,0,10]\n",
    "g.clear()\n",
    "g"
   ]
  },
  {
   "cell_type": "markdown",
   "id": "9e843867",
   "metadata": {},
   "source": [
    "# Indexing"
   ]
  },
  {
   "cell_type": "code",
   "execution_count": 36,
   "id": "813360d8",
   "metadata": {},
   "outputs": [
    {
     "data": {
      "text/plain": [
       "2"
      ]
     },
     "execution_count": 36,
     "metadata": {},
     "output_type": "execute_result"
    }
   ],
   "source": [
    "b = [1,7,2,9,10,11,17,11,15]\n",
    "b.index(2)\n"
   ]
  },
  {
   "cell_type": "code",
   "execution_count": 37,
   "id": "4223e9bd",
   "metadata": {},
   "outputs": [
    {
     "data": {
      "text/plain": [
       "7"
      ]
     },
     "execution_count": 37,
     "metadata": {},
     "output_type": "execute_result"
    }
   ],
   "source": [
    "f = [2,3,4,2,5,1,6,3]\n",
    "f.index(3,2,8)\n"
   ]
  },
  {
   "cell_type": "markdown",
   "id": "0f61d673",
   "metadata": {},
   "source": [
    "# Update, Insert, Copy, Remove "
   ]
  },
  {
   "cell_type": "code",
   "execution_count": 38,
   "id": "e6f1d805",
   "metadata": {},
   "outputs": [
    {
     "data": {
      "text/plain": [
       "[2, 1, 4, 2, 6, 4, 8, 2]"
      ]
     },
     "execution_count": 38,
     "metadata": {},
     "output_type": "execute_result"
    }
   ],
   "source": [
    "k = [2,1,4,2,6,4,8,2]  # Copy\n",
    "v = k.copy()\n",
    "v"
   ]
  },
  {
   "cell_type": "code",
   "execution_count": 39,
   "id": "552c04c4",
   "metadata": {},
   "outputs": [
    {
     "data": {
      "text/plain": [
       "[2, 3, 14, 4, 2, 5, 1, 6, 3]"
      ]
     },
     "execution_count": 39,
     "metadata": {},
     "output_type": "execute_result"
    }
   ],
   "source": [
    "# Insert maha index,value which we want to assign on that particular indexing\n",
    "F = [3,2,4,5,1,8,9]\n",
    "f.insert(2,14)\n",
    "f"
   ]
  },
  {
   "cell_type": "code",
   "execution_count": 40,
   "id": "56af6af6",
   "metadata": {},
   "outputs": [
    {
     "data": {
      "text/plain": [
       "[3, 2, 1, 6, 'Apple', 8, 0]"
      ]
     },
     "execution_count": 40,
     "metadata": {},
     "output_type": "execute_result"
    }
   ],
   "source": [
    "# Update\n",
    "j = [3,2,1,6,4,8,0]\n",
    "j[4] = \"Apple\"\n",
    "j"
   ]
  },
  {
   "cell_type": "code",
   "execution_count": 41,
   "id": "2a407d56",
   "metadata": {},
   "outputs": [
    {
     "data": {
      "text/plain": [
       "[4, 3, 2, 6, 1, 8, 9]"
      ]
     },
     "execution_count": 41,
     "metadata": {},
     "output_type": "execute_result"
    }
   ],
   "source": [
    "# Remove\n",
    "h = [4,3,2,6,8,1,8,9]\n",
    "h.remove(8)\n",
    "h"
   ]
  },
  {
   "cell_type": "code",
   "execution_count": 42,
   "id": "24d03c16",
   "metadata": {},
   "outputs": [
    {
     "data": {
      "text/plain": [
       "[1, 4, 2, 5, 8, 4]"
      ]
     },
     "execution_count": 42,
     "metadata": {},
     "output_type": "execute_result"
    }
   ],
   "source": [
    "# Append\n",
    "L = [1,4,2,5,8]\n",
    "L.append(4)\n",
    "L"
   ]
  },
  {
   "cell_type": "code",
   "execution_count": 43,
   "id": "4cc229fd",
   "metadata": {},
   "outputs": [
    {
     "data": {
      "text/plain": [
       "[1, 4, 2, 5, 8, 4, 3, 2, 5]"
      ]
     },
     "execution_count": 43,
     "metadata": {},
     "output_type": "execute_result"
    }
   ],
   "source": [
    "# Extend\n",
    "b = [3,2,5]\n",
    "L.extend(b)\n",
    "L"
   ]
  },
  {
   "cell_type": "code",
   "execution_count": 44,
   "id": "53894329",
   "metadata": {},
   "outputs": [
    {
     "data": {
      "text/plain": [
       "[0, 1, 2, 5, 6, 9]"
      ]
     },
     "execution_count": 44,
     "metadata": {},
     "output_type": "execute_result"
    }
   ],
   "source": [
    "# Sorting\n",
    "p = [6,2,9,0,1,5]\n",
    "p.sort()\n",
    "p"
   ]
  },
  {
   "cell_type": "code",
   "execution_count": 45,
   "id": "203db654",
   "metadata": {},
   "outputs": [
    {
     "data": {
      "text/plain": [
       "[9, 6, 5, 2, 1, 0]"
      ]
     },
     "execution_count": 45,
     "metadata": {},
     "output_type": "execute_result"
    }
   ],
   "source": [
    "# Reverse\n",
    "p.reverse()\n",
    "p"
   ]
  },
  {
   "cell_type": "code",
   "execution_count": 46,
   "id": "45caac81",
   "metadata": {},
   "outputs": [
    {
     "data": {
      "text/plain": [
       "[18, 14, 11, 9, 7, 6, 4, 2, 1]"
      ]
     },
     "execution_count": 46,
     "metadata": {},
     "output_type": "execute_result"
    }
   ],
   "source": [
    "# Sorting and reverse in one cell\n",
    "D = [9,4,2,7,6,1,11,18,14]\n",
    "D.sort(reverse = True)\n",
    "D"
   ]
  },
  {
   "cell_type": "code",
   "execution_count": 47,
   "id": "59667e62",
   "metadata": {},
   "outputs": [
    {
     "data": {
      "text/plain": [
       "[9, 3, 2, 6]"
      ]
     },
     "execution_count": 47,
     "metadata": {},
     "output_type": "execute_result"
    }
   ],
   "source": [
    "# Pop\n",
    "p = [9,3,2,6,18]\n",
    "p.pop()\n",
    "p"
   ]
  },
  {
   "cell_type": "code",
   "execution_count": 48,
   "id": "ee163259",
   "metadata": {},
   "outputs": [
    {
     "data": {
      "text/plain": [
       "[4, 2, 1, 8, 10, 11, 16, 14]"
      ]
     },
     "execution_count": 48,
     "metadata": {},
     "output_type": "execute_result"
    }
   ],
   "source": [
    "n = [4,2,1,8,7,10,11,16,14]\n",
    "n.pop(4)\n",
    "n"
   ]
  },
  {
   "cell_type": "code",
   "execution_count": 49,
   "id": "d2e3f44d",
   "metadata": {},
   "outputs": [
    {
     "data": {
      "text/plain": [
       "[4, 3, 8, 1, 9]"
      ]
     },
     "execution_count": 49,
     "metadata": {},
     "output_type": "execute_result"
    }
   ],
   "source": [
    "# Update\n",
    "k = [4,3,7,1,9]\n",
    "k[2]=8\n",
    "k"
   ]
  },
  {
   "cell_type": "code",
   "execution_count": 50,
   "id": "a88af6da",
   "metadata": {},
   "outputs": [
    {
     "data": {
      "text/plain": [
       "[4, 2, 6, 11, 9, 10, 19, 12, 18]"
      ]
     },
     "execution_count": 50,
     "metadata": {},
     "output_type": "execute_result"
    }
   ],
   "source": [
    "# Insert\n",
    "i = [4,2,6,9,10,19,12,18]\n",
    "i.insert(3,11)\n",
    "i"
   ]
  },
  {
   "cell_type": "code",
   "execution_count": 51,
   "id": "0edf516a",
   "metadata": {},
   "outputs": [
    {
     "data": {
      "text/plain": [
       "[9, 2, 5, 1]"
      ]
     },
     "execution_count": 51,
     "metadata": {},
     "output_type": "execute_result"
    }
   ],
   "source": [
    "# Remove \n",
    "r = [9,2,5,7,1]\n",
    "r.remove(7)\n",
    "r"
   ]
  },
  {
   "cell_type": "code",
   "execution_count": 52,
   "id": "ed7d34dd",
   "metadata": {},
   "outputs": [
    {
     "data": {
      "text/plain": [
       "[4, 3, 2, 1]"
      ]
     },
     "execution_count": 52,
     "metadata": {},
     "output_type": "execute_result"
    }
   ],
   "source": [
    "# Copy \n",
    "n = [4,3,2,1]\n",
    "m = n.copy()\n",
    "m"
   ]
  },
  {
   "cell_type": "code",
   "execution_count": 53,
   "id": "d51d9a53",
   "metadata": {},
   "outputs": [
    {
     "data": {
      "text/plain": [
       "0"
      ]
     },
     "execution_count": 53,
     "metadata": {},
     "output_type": "execute_result"
    }
   ],
   "source": [
    "# Indexing\n",
    "p = [4,3,2,8,1,4,0]\n",
    "p.index(4)"
   ]
  },
  {
   "cell_type": "code",
   "execution_count": 54,
   "id": "4130b77a",
   "metadata": {},
   "outputs": [
    {
     "data": {
      "text/plain": [
       "7"
      ]
     },
     "execution_count": 54,
     "metadata": {},
     "output_type": "execute_result"
    }
   ],
   "source": [
    "#p.index(4,1,)\n",
    "len(p)"
   ]
  },
  {
   "cell_type": "code",
   "execution_count": 55,
   "id": "62d72dce",
   "metadata": {},
   "outputs": [
    {
     "data": {
      "text/plain": [
       "2"
      ]
     },
     "execution_count": 55,
     "metadata": {},
     "output_type": "execute_result"
    }
   ],
   "source": [
    "# Count\n",
    "h = [3,2,1,5,7,9,2]\n",
    "h.count(2)"
   ]
  },
  {
   "cell_type": "code",
   "execution_count": 56,
   "id": "4f1ac8e5",
   "metadata": {},
   "outputs": [
    {
     "data": {
      "text/plain": [
       "2"
      ]
     },
     "execution_count": 56,
     "metadata": {},
     "output_type": "execute_result"
    }
   ],
   "source": [
    "h.count(h[1])"
   ]
  },
  {
   "cell_type": "markdown",
   "id": "b824b570",
   "metadata": {},
   "source": [
    "# Tuples"
   ]
  },
  {
   "cell_type": "code",
   "execution_count": 57,
   "id": "33abcc86",
   "metadata": {},
   "outputs": [
    {
     "data": {
      "text/plain": [
       "7"
      ]
     },
     "execution_count": 57,
     "metadata": {},
     "output_type": "execute_result"
    }
   ],
   "source": [
    "t = (3,2,5,1,8,3,9) # Index\n",
    "t.index(3)\n",
    "len(t)"
   ]
  },
  {
   "cell_type": "code",
   "execution_count": 58,
   "id": "8b37ebe4",
   "metadata": {},
   "outputs": [
    {
     "data": {
      "text/plain": [
       "5"
      ]
     },
     "execution_count": 58,
     "metadata": {},
     "output_type": "execute_result"
    }
   ],
   "source": [
    "t.index(3,1,6)"
   ]
  },
  {
   "cell_type": "code",
   "execution_count": 59,
   "id": "4f497079",
   "metadata": {},
   "outputs": [
    {
     "data": {
      "text/plain": [
       "13"
      ]
     },
     "execution_count": 59,
     "metadata": {},
     "output_type": "execute_result"
    }
   ],
   "source": [
    "y = (1,2,3,3,3,3,3,3,4,5,6,6,6) # Length\n",
    "len(y)"
   ]
  },
  {
   "cell_type": "code",
   "execution_count": 60,
   "id": "e49064f8",
   "metadata": {},
   "outputs": [
    {
     "data": {
      "text/plain": [
       "3"
      ]
     },
     "execution_count": 60,
     "metadata": {},
     "output_type": "execute_result"
    }
   ],
   "source": [
    "# Count \n",
    "g = (4,3,2,1,7,2,3,4,2)\n",
    "g.count(2)"
   ]
  },
  {
   "cell_type": "code",
   "execution_count": 61,
   "id": "89788456",
   "metadata": {},
   "outputs": [
    {
     "data": {
      "text/plain": [
       "7"
      ]
     },
     "execution_count": 61,
     "metadata": {},
     "output_type": "execute_result"
    }
   ],
   "source": [
    "b = (1,2,1,3,1,4,1,5,1,6,1,1)\n",
    "b.count(b[4])"
   ]
  },
  {
   "cell_type": "code",
   "execution_count": 62,
   "id": "b5e65fb0",
   "metadata": {},
   "outputs": [
    {
     "data": {
      "text/plain": [
       "2"
      ]
     },
     "execution_count": 62,
     "metadata": {},
     "output_type": "execute_result"
    }
   ],
   "source": [
    "g = (3,2,1,4,1,5,1,2,3,4,5,6)\n",
    "b = 3\n",
    "g.count(b)"
   ]
  },
  {
   "cell_type": "code",
   "execution_count": 63,
   "id": "1e967a04",
   "metadata": {},
   "outputs": [],
   "source": [
    "# Tuples Unpacking\n",
    "e = (3,2,1)\n",
    "(A,B,C) = e"
   ]
  },
  {
   "cell_type": "code",
   "execution_count": 64,
   "id": "edf154e9",
   "metadata": {},
   "outputs": [
    {
     "data": {
      "text/plain": [
       "3"
      ]
     },
     "execution_count": 64,
     "metadata": {},
     "output_type": "execute_result"
    }
   ],
   "source": [
    "A"
   ]
  },
  {
   "cell_type": "code",
   "execution_count": 65,
   "id": "fca6e8a8",
   "metadata": {},
   "outputs": [
    {
     "data": {
      "text/plain": [
       "1"
      ]
     },
     "execution_count": 65,
     "metadata": {},
     "output_type": "execute_result"
    }
   ],
   "source": [
    "C"
   ]
  },
  {
   "cell_type": "code",
   "execution_count": 66,
   "id": "e367bcdb",
   "metadata": {},
   "outputs": [
    {
     "data": {
      "text/plain": [
       "(1, 5, 2, 7, 9, 10)"
      ]
     },
     "execution_count": 66,
     "metadata": {},
     "output_type": "execute_result"
    }
   ],
   "source": [
    "r = (1,5,2,7,9)\n",
    "d = list(r)\n",
    "d\n",
    "d.append(10)\n",
    "w = tuple(d)\n",
    "w"
   ]
  },
  {
   "cell_type": "markdown",
   "id": "dd15ccd8",
   "metadata": {},
   "source": [
    "# Practise"
   ]
  },
  {
   "cell_type": "code",
   "execution_count": 67,
   "id": "ee2e3f05",
   "metadata": {},
   "outputs": [
    {
     "name": "stdout",
     "output_type": "stream",
     "text": [
      "Enter the number:89\n",
      "The number is not divisible by 7\n"
     ]
    }
   ],
   "source": [
    "Num = int(input('Enter the number:'))\n",
    "\n",
    "if Num % 7 ==0:\n",
    "    print('The number is divisible by 7')\n",
    "    \n",
    "else:\n",
    "    print('The number is not divisible by 7')"
   ]
  },
  {
   "cell_type": "code",
   "execution_count": 68,
   "id": "4147cfd2",
   "metadata": {},
   "outputs": [
    {
     "name": "stdout",
     "output_type": "stream",
     "text": [
      "Enter a number:5647\n",
      "The total bill amount is 54970\n"
     ]
    }
   ],
   "source": [
    "Num = int(input('Enter a number:'))\n",
    "\n",
    "if Num <= 100:\n",
    "    price = 0\n",
    "    print(f'The total bill amount is {price}')\n",
    "    \n",
    "elif Num > 100 and Num <= 200:\n",
    "    price = (Num-100)*5\n",
    "    print(f'The total bill amount is {price}')\n",
    "    \n",
    "else:\n",
    "    price = (100*5)+(Num-200)*10\n",
    "    print(f'The total bill amount is {price}')"
   ]
  },
  {
   "cell_type": "code",
   "execution_count": 69,
   "id": "4c720118",
   "metadata": {},
   "outputs": [
    {
     "name": "stdout",
     "output_type": "stream",
     "text": [
      "Enter a number:364\n",
      "4\n"
     ]
    }
   ],
   "source": [
    "Num = int(input('Enter a number:'))\n",
    "\n",
    "if Num % 10 == 0:\n",
    "    print('The last digit will be 0')\n",
    "    \n",
    "else:\n",
    "    Result = Num % 10\n",
    "    print(Result)"
   ]
  },
  {
   "cell_type": "code",
   "execution_count": 70,
   "id": "b0dfc30d",
   "metadata": {},
   "outputs": [
    {
     "name": "stdout",
     "output_type": "stream",
     "text": [
      "Enter a number:563\n",
      "The last digit of a number is divisible by 3\n"
     ]
    }
   ],
   "source": [
    "Num = int(input('Enter a number:'))\n",
    "\n",
    "rem = Num % 10\n",
    "\n",
    "if rem % 3 == 0:\n",
    "    print('The last digit of a number is divisible by 3')\n",
    "    \n",
    "else:\n",
    "    print('The last digit of a number is not divisible by 3')"
   ]
  },
  {
   "cell_type": "code",
   "execution_count": 71,
   "id": "503cc09b",
   "metadata": {},
   "outputs": [
    {
     "name": "stdout",
     "output_type": "stream",
     "text": [
      "Enter a number:36\n",
      "The enter number is even\n"
     ]
    }
   ],
   "source": [
    "Num = int(input('Enter a number:'))\n",
    "\n",
    "if Num % 2 == 0:\n",
    "    print('The enter number is even')\n",
    "    \n",
    "else:\n",
    "    b = 'odd number'\n",
    "    print(b)"
   ]
  },
  {
   "cell_type": "code",
   "execution_count": 72,
   "id": "bed2962a",
   "metadata": {},
   "outputs": [
    {
     "name": "stdout",
     "output_type": "stream",
     "text": [
      "Enter a number:375\n",
      "Hello\n"
     ]
    }
   ],
   "source": [
    "Num = int(input('Enter a number:'))\n",
    "\n",
    "if Num % 5 == 0:\n",
    "    print('Hello')\n",
    "    \n",
    "else:\n",
    "    print('Bye')\n",
    "    \n"
   ]
  },
  {
   "cell_type": "code",
   "execution_count": 73,
   "id": "c735ee6e",
   "metadata": {},
   "outputs": [
    {
     "name": "stdout",
     "output_type": "stream",
     "text": [
      "Enter a number:375\n",
      "Hello\n"
     ]
    }
   ],
   "source": [
    "Num = int(input('Enter a number:'))\n",
    "\n",
    "if Num % 5 == 0:\n",
    "    print('Hello')\n",
    "    \n",
    "else:\n",
    "    print('Bye')"
   ]
  },
  {
   "cell_type": "code",
   "execution_count": 74,
   "id": "036822b4",
   "metadata": {},
   "outputs": [
    {
     "name": "stdout",
     "output_type": "stream",
     "text": [
      "Enter the cost price of bike:357\n",
      "The road tax to be paid is 17.85\n"
     ]
    }
   ],
   "source": [
    "Num = int(input('Enter the cost price of bike:'))\n",
    "\n",
    "if Num > 100000:\n",
    "    price = (15/100)*Num\n",
    "    \n",
    "elif Num > 50000 and Num <= 100000:\n",
    "    price = (10/100)*Num\n",
    "    \n",
    "else:\n",
    "    price = (5/100)*Num\n",
    "print(f'The road tax to be paid is {price}')"
   ]
  },
  {
   "cell_type": "code",
   "execution_count": 75,
   "id": "07a3cfd5",
   "metadata": {},
   "outputs": [
    {
     "name": "stdout",
     "output_type": "stream",
     "text": [
      "Enter a first number:357\n",
      "Enter a second number:375\n",
      "The difference between two number is even\n"
     ]
    }
   ],
   "source": [
    "a = int(input('Enter a first number:'))\n",
    "b = int(input('Enter a second number:'))\n",
    "c = a-b\n",
    "\n",
    "\n",
    "if c % 2 == 0:\n",
    "    print(f'The difference between two number is even')\n",
    "    \n",
    "else:\n",
    "    print(f'The difference between two number is odd')\n"
   ]
  },
  {
   "cell_type": "code",
   "execution_count": 76,
   "id": "c854e519",
   "metadata": {},
   "outputs": [
    {
     "name": "stdout",
     "output_type": "stream",
     "text": [
      "Enter the first number:735\n",
      "Enter the second number:357\n",
      "The second number is smaller\n"
     ]
    }
   ],
   "source": [
    "a = int(input('Enter the first number:'))\n",
    "b = int(input('Enter the second number:'))\n",
    "\n",
    "if a < b:\n",
    "    print('The first number is smaller')\n",
    "    \n",
    "else:\n",
    "    print('The second number is smaller')"
   ]
  },
  {
   "cell_type": "code",
   "execution_count": 77,
   "id": "6ca404af",
   "metadata": {},
   "outputs": [
    {
     "data": {
      "text/plain": [
       "5"
      ]
     },
     "execution_count": 77,
     "metadata": {},
     "output_type": "execute_result"
    }
   ],
   "source": [
    "l= (1,2,3,3,4,)\n",
    "len(l)"
   ]
  },
  {
   "cell_type": "markdown",
   "id": "a7678ffb",
   "metadata": {},
   "source": [
    "# Arithmetic Operator"
   ]
  },
  {
   "cell_type": "markdown",
   "id": "3b01d81b",
   "metadata": {},
   "source": [
    " # For loop"
   ]
  },
  {
   "cell_type": "code",
   "execution_count": 78,
   "id": "a3cb22d9",
   "metadata": {},
   "outputs": [
    {
     "name": "stdout",
     "output_type": "stream",
     "text": [
      "0 Carrot\n",
      "1 Onion\n",
      "2 Brinjal\n",
      "3 Pumkpin\n",
      "4 Cucumber\n"
     ]
    }
   ],
   "source": [
    "veg = ['Carrot','Onion','Brinjal','Pumkpin','Cucumber']\n",
    "for u in range(len(veg)):\n",
    "    print(u,veg[u])"
   ]
  },
  {
   "cell_type": "code",
   "execution_count": 79,
   "id": "06d1c51b",
   "metadata": {},
   "outputs": [
    {
     "data": {
      "text/plain": [
       "((0, 'Carrot'), (1, 'Onion'), (2, 'Brinjal'), (3, 'Pumkpin'), (4, 'Cucumber'))"
      ]
     },
     "execution_count": 79,
     "metadata": {},
     "output_type": "execute_result"
    }
   ],
   "source": [
    "veg = ['Carrot','Onion','Brinjal','Pumkpin','Cucumber']\n",
    "em = enumerate(veg)\n",
    "tuple(em)"
   ]
  },
  {
   "cell_type": "code",
   "execution_count": 80,
   "id": "4419370b",
   "metadata": {},
   "outputs": [
    {
     "name": "stdout",
     "output_type": "stream",
     "text": [
      "0 Carrot\n",
      "1 Onion\n",
      "2 Brinjal\n",
      "3 Pumkpin\n",
      "4 Cucumber\n"
     ]
    }
   ],
   "source": [
    "veg = ['Carrot','Onion','Brinjal','Pumkpin','Cucumber']\n",
    "for index,value in enumerate(veg):\n",
    "    print(index,value)"
   ]
  },
  {
   "cell_type": "code",
   "execution_count": 81,
   "id": "6749cf7c",
   "metadata": {},
   "outputs": [
    {
     "data": {
      "text/plain": [
       "[2, 3, 4, 1, 5, 6, 7, 8, 9, 12]"
      ]
     },
     "execution_count": 81,
     "metadata": {},
     "output_type": "execute_result"
    }
   ],
   "source": [
    "L = [2,3,4,1,5,6,7,8,9]\n",
    "L.append(12)\n",
    "L"
   ]
  },
  {
   "cell_type": "code",
   "execution_count": 82,
   "id": "3219ee9a",
   "metadata": {},
   "outputs": [
    {
     "data": {
      "text/plain": [
       "[2, 3, 4, 1, 5, 6, 7, 8, 9, 5, 7, 4]"
      ]
     },
     "execution_count": 82,
     "metadata": {},
     "output_type": "execute_result"
    }
   ],
   "source": [
    "k = [2,3,4,1,5,6,7,8,9]\n",
    "k.extend([5,7,4])\n",
    "k"
   ]
  },
  {
   "cell_type": "code",
   "execution_count": 83,
   "id": "f2af0a37",
   "metadata": {},
   "outputs": [
    {
     "data": {
      "text/plain": [
       "[2, 3, 4, 1, 5, 6, 7, 8, 9, 4, 3, 2, 1]"
      ]
     },
     "execution_count": 83,
     "metadata": {},
     "output_type": "execute_result"
    }
   ],
   "source": [
    "p = [2,3,4,1,5,6,7,8,9]\n",
    "k = [4,3,2,1]\n",
    "p.extend(k)\n",
    "p"
   ]
  },
  {
   "cell_type": "code",
   "execution_count": 84,
   "id": "4d894785",
   "metadata": {},
   "outputs": [
    {
     "data": {
      "text/plain": [
       "[1, 2, 3, 4, 5, 6, 7, 8, 9]"
      ]
     },
     "execution_count": 84,
     "metadata": {},
     "output_type": "execute_result"
    }
   ],
   "source": [
    "L = [2,3,4,1,5,6,7,8,9]\n",
    "L.sort()\n",
    "L"
   ]
  },
  {
   "cell_type": "code",
   "execution_count": 85,
   "id": "f365d7b7",
   "metadata": {},
   "outputs": [
    {
     "data": {
      "text/plain": [
       "[9, 8, 7, 6, 5, 4, 3, 2, 1]"
      ]
     },
     "execution_count": 85,
     "metadata": {},
     "output_type": "execute_result"
    }
   ],
   "source": [
    "L = [2,3,4,1,5,6,7,8,9]\n",
    "L.sort(reverse = True)\n",
    "L"
   ]
  },
  {
   "cell_type": "code",
   "execution_count": 86,
   "id": "2e8e9176",
   "metadata": {},
   "outputs": [
    {
     "data": {
      "text/plain": [
       "[]"
      ]
     },
     "execution_count": 86,
     "metadata": {},
     "output_type": "execute_result"
    }
   ],
   "source": [
    "L = [2,3,4,1,5,6,7,8,9]\n",
    "L.clear()\n",
    "L"
   ]
  },
  {
   "cell_type": "code",
   "execution_count": 87,
   "id": "57ab7ec9",
   "metadata": {},
   "outputs": [
    {
     "data": {
      "text/plain": [
       "[2, 3, 8, 1, 5, 6, 7, 8, 9]"
      ]
     },
     "execution_count": 87,
     "metadata": {},
     "output_type": "execute_result"
    }
   ],
   "source": [
    "p = [2,3,4,1,5,6,7,8,9]\n",
    "# Update \n",
    "p[2] = 8\n",
    "p"
   ]
  },
  {
   "cell_type": "code",
   "execution_count": 88,
   "id": "390da5fc",
   "metadata": {},
   "outputs": [
    {
     "data": {
      "text/plain": [
       "[2, 3, 4, 1, 5, 6, 7, 8, 9]"
      ]
     },
     "execution_count": 88,
     "metadata": {},
     "output_type": "execute_result"
    }
   ],
   "source": [
    "p = [2,3,4,1,5,6,7,8,9]\n",
    "g = p.copy()\n",
    "g"
   ]
  },
  {
   "cell_type": "code",
   "execution_count": 89,
   "id": "6f70e909",
   "metadata": {},
   "outputs": [
    {
     "data": {
      "text/plain": [
       "[2, 'a', 3, 4, 1, 5, 6, 7, 8, 9]"
      ]
     },
     "execution_count": 89,
     "metadata": {},
     "output_type": "execute_result"
    }
   ],
   "source": [
    "# Insert\n",
    "p = [2,3,4,1,5,6,7,8,9]\n",
    "p.insert(1,'a')\n",
    "p"
   ]
  },
  {
   "cell_type": "code",
   "execution_count": 90,
   "id": "e2097c7f",
   "metadata": {},
   "outputs": [
    {
     "data": {
      "text/plain": [
       "7"
      ]
     },
     "execution_count": 90,
     "metadata": {},
     "output_type": "execute_result"
    }
   ],
   "source": [
    "# Index\n",
    "p = [2,3,4,1,5,6,7,2,8,9]\n",
    "p.index(2,1,)\n"
   ]
  },
  {
   "cell_type": "code",
   "execution_count": 91,
   "id": "25c11320",
   "metadata": {},
   "outputs": [
    {
     "data": {
      "text/plain": [
       "[2, 4, 1, 5, 6, 7, 8, 9]"
      ]
     },
     "execution_count": 91,
     "metadata": {},
     "output_type": "execute_result"
    }
   ],
   "source": [
    "# pop\n",
    "p = [2,3,4,1,5,6,7,8,9]\n",
    "p.pop(1)\n",
    "p"
   ]
  },
  {
   "cell_type": "code",
   "execution_count": 92,
   "id": "580bc503",
   "metadata": {},
   "outputs": [
    {
     "data": {
      "text/plain": [
       "dict_keys(['Age', 'Gender', 'Height'])"
      ]
     },
     "execution_count": 92,
     "metadata": {},
     "output_type": "execute_result"
    }
   ],
   "source": [
    "d = {'Age':22 , 'Gender':'Male','Height':5.6}\n",
    "d.keys()"
   ]
  },
  {
   "cell_type": "code",
   "execution_count": 93,
   "id": "6e5a7b88",
   "metadata": {},
   "outputs": [
    {
     "data": {
      "text/plain": [
       "dict_values([22, 'Male', 5.6])"
      ]
     },
     "execution_count": 93,
     "metadata": {},
     "output_type": "execute_result"
    }
   ],
   "source": [
    "d.values()\n"
   ]
  },
  {
   "cell_type": "code",
   "execution_count": 94,
   "id": "02de416f",
   "metadata": {},
   "outputs": [
    {
     "data": {
      "text/plain": [
       "{'Age': 22, 'Gender': 'Male', 'Height': 5.6, 'Namae': 'Prajwal'}"
      ]
     },
     "execution_count": 94,
     "metadata": {},
     "output_type": "execute_result"
    }
   ],
   "source": [
    "d.update({'Namae':'Prajwal'})\n",
    "d"
   ]
  },
  {
   "cell_type": "code",
   "execution_count": 95,
   "id": "87812be8",
   "metadata": {},
   "outputs": [
    {
     "data": {
      "text/plain": [
       "(1, 2, 'Tree', 4, 5, 6, 7)"
      ]
     },
     "execution_count": 95,
     "metadata": {},
     "output_type": "execute_result"
    }
   ],
   "source": [
    "p = (1,2,3,4,5,6,7)\n",
    "c = list(p)\n",
    "c\n",
    "c[2] = 'Tree'\n",
    "c\n",
    "p = tuple(c)\n",
    "p"
   ]
  },
  {
   "cell_type": "code",
   "execution_count": 96,
   "id": "4c0e867f",
   "metadata": {},
   "outputs": [
    {
     "name": "stdout",
     "output_type": "stream",
     "text": [
      "Enter a number:357\n",
      "The input number is divisible by 7\n"
     ]
    }
   ],
   "source": [
    "Num = int(input('Enter a number:'))\n",
    "\n",
    "if Num % 7 == 0:\n",
    "    print('The input number is divisible by 7')\n",
    "    \n",
    "else:\n",
    "    print('The input number is not divisible by 7')"
   ]
  },
  {
   "cell_type": "code",
   "execution_count": 97,
   "id": "66a0e3e0",
   "metadata": {},
   "outputs": [
    {
     "name": "stdout",
     "output_type": "stream",
     "text": [
      "Enter a number:357\n",
      "7\n"
     ]
    }
   ],
   "source": [
    "num = int(input('Enter a number:'))\n",
    "\n",
    "if Num % 10 == 0:\n",
    "    print('The last digit of number is 0')\n",
    "    \n",
    "else:\n",
    "    result = Num % 10\n",
    "    print(result)"
   ]
  },
  {
   "cell_type": "code",
   "execution_count": 98,
   "id": "7b8f41d4",
   "metadata": {},
   "outputs": [
    {
     "name": "stdout",
     "output_type": "stream",
     "text": [
      "Enter a number:375\n",
      "The last digit is  5\n",
      "Your first digit number is  3\n"
     ]
    }
   ],
   "source": [
    "\n",
    "Num = int(input('Enter a number:'))\n",
    "\n",
    "rem = Num  % 10\n",
    "\n",
    "if rem  == 0:\n",
    "    print('The last digit is 0')\n",
    "    \n",
    "else:\n",
    "    print('The last digit is ',rem)\n",
    "    \n",
    "if Num > 0:\n",
    "    a = str(Num)\n",
    "    print('Your first digit number is ', a[0] )\n",
    "elif Num < 0:\n",
    "    a = str(Num)\n",
    "    print('Your first digit number is ', a[1] )\n",
    "else:\n",
    "    print('The first digit number is', Num)"
   ]
  },
  {
   "cell_type": "code",
   "execution_count": 101,
   "id": "8723c360",
   "metadata": {},
   "outputs": [
    {
     "data": {
      "text/plain": [
       "'-678'"
      ]
     },
     "execution_count": 101,
     "metadata": {},
     "output_type": "execute_result"
    }
   ],
   "source": [
    "a = str(-678)\n",
    "a\n",
    "\n",
    "  "
   ]
  },
  {
   "cell_type": "code",
   "execution_count": null,
   "id": "7ff88060",
   "metadata": {},
   "outputs": [],
   "source": [
    "a = str(-7000)\n",
    "a"
   ]
  },
  {
   "cell_type": "code",
   "execution_count": null,
   "id": "9be196e3",
   "metadata": {},
   "outputs": [],
   "source": [
    "a[1]"
   ]
  },
  {
   "cell_type": "code",
   "execution_count": null,
   "id": "ff723430",
   "metadata": {},
   "outputs": [],
   "source": [
    "s = 'Ram'\n",
    "s[0]"
   ]
  },
  {
   "cell_type": "code",
   "execution_count": null,
   "id": "d3248547",
   "metadata": {},
   "outputs": [],
   "source": [
    "s = '62463'"
   ]
  },
  {
   "cell_type": "code",
   "execution_count": null,
   "id": "172df51d",
   "metadata": {},
   "outputs": [],
   "source": [
    "\n",
    "\n",
    "def find (num):\n",
    "    b = str(num)\n",
    "    for i in b:\n",
    "        print(b[0])\n",
    "        break\n",
    "        \n"
   ]
  },
  {
   "cell_type": "code",
   "execution_count": null,
   "id": "cc7ee33f",
   "metadata": {},
   "outputs": [],
   "source": []
  },
  {
   "cell_type": "code",
   "execution_count": null,
   "id": "6c37557f",
   "metadata": {},
   "outputs": [],
   "source": [
    "type(num)"
   ]
  },
  {
   "cell_type": "code",
   "execution_count": null,
   "id": "aa95d91c",
   "metadata": {},
   "outputs": [],
   "source": [
    "x = True\n"
   ]
  },
  {
   "cell_type": "code",
   "execution_count": null,
   "id": "4ce99a2f",
   "metadata": {},
   "outputs": [],
   "source": [
    "type(x)"
   ]
  },
  {
   "cell_type": "code",
   "execution_count": null,
   "id": "2901c89c",
   "metadata": {},
   "outputs": [],
   "source": [
    "id(x)"
   ]
  },
  {
   "cell_type": "code",
   "execution_count": null,
   "id": "1079cc9c",
   "metadata": {},
   "outputs": [],
   "source": [
    "d = {'fruits':'apple' , 'animal':'dog'}\n",
    "type(d)"
   ]
  },
  {
   "cell_type": "code",
   "execution_count": null,
   "id": "1da9cad1",
   "metadata": {},
   "outputs": [],
   "source": [
    "id(d)"
   ]
  },
  {
   "cell_type": "code",
   "execution_count": null,
   "id": "e5f568b7",
   "metadata": {},
   "outputs": [],
   "source": [
    "a = list(d)"
   ]
  },
  {
   "cell_type": "code",
   "execution_count": null,
   "id": "4aa1ceec",
   "metadata": {},
   "outputs": [],
   "source": [
    "a"
   ]
  },
  {
   "cell_type": "code",
   "execution_count": null,
   "id": "538eff1f",
   "metadata": {},
   "outputs": [],
   "source": [
    "Num = int(input('Enter a number:'))\n",
    "\n",
    "if Num % 10 == 0:\n",
    "    print('The last digit of the given number is 0')\n",
    "    \n",
    "else:\n",
    "    result = Num % 10\n",
    "    print(result)\n",
    "    "
   ]
  },
  {
   "cell_type": "code",
   "execution_count": null,
   "id": "49e1d203",
   "metadata": {},
   "outputs": [],
   "source": [
    "b = {'integer': 11 , 'string': 'prajwal'}\n",
    "type(b)"
   ]
  },
  {
   "cell_type": "code",
   "execution_count": null,
   "id": "7a2a6c77",
   "metadata": {},
   "outputs": [],
   "source": [
    "b['integer']"
   ]
  },
  {
   "cell_type": "code",
   "execution_count": null,
   "id": "2111c1c0",
   "metadata": {},
   "outputs": [],
   "source": [
    "b['string']"
   ]
  },
  {
   "cell_type": "code",
   "execution_count": null,
   "id": "e4134507",
   "metadata": {},
   "outputs": [],
   "source": [
    "b['Boolean'] = True"
   ]
  },
  {
   "cell_type": "code",
   "execution_count": null,
   "id": "8ccee178",
   "metadata": {},
   "outputs": [],
   "source": [
    "\n",
    "b"
   ]
  },
  {
   "cell_type": "code",
   "execution_count": null,
   "id": "8b72d96a",
   "metadata": {},
   "outputs": [],
   "source": [
    "a = [4,3,1,6,8,11,33,9]\n",
    "a.sort(reverse = True)\n",
    "a"
   ]
  },
  {
   "cell_type": "code",
   "execution_count": 106,
   "id": "f9c7b6c9",
   "metadata": {},
   "outputs": [
    {
     "name": "stdout",
     "output_type": "stream",
     "text": [
      "49\n"
     ]
    }
   ],
   "source": [
    "\n",
    "a = 7**2\n",
    "print(a)"
   ]
  },
  {
   "cell_type": "code",
   "execution_count": 109,
   "id": "11377ccf",
   "metadata": {},
   "outputs": [
    {
     "name": "stdout",
     "output_type": "stream",
     "text": [
      "Enter a first number:2\n",
      "Enter a second number:4\n",
      "36\n"
     ]
    }
   ],
   "source": [
    "a = int(input('Enter a first number:'))\n",
    "b = int(input('Enter a second number:'))\n",
    "\n",
    "result = (a**2) + (2*a*b) + (b**2)\n",
    "                            \n",
    "print(result)"
   ]
  },
  {
   "cell_type": "code",
   "execution_count": 111,
   "id": "80667164",
   "metadata": {},
   "outputs": [
    {
     "data": {
      "text/plain": [
       "[1, 2, 'Tree', 4, 5, 8]"
      ]
     },
     "execution_count": 111,
     "metadata": {},
     "output_type": "execute_result"
    }
   ],
   "source": [
    "u = [1,2,3,4,5,8]\n",
    "u[2] = 'Tree'\n",
    "u\n"
   ]
  },
  {
   "cell_type": "code",
   "execution_count": 32,
   "id": "da9e0001",
   "metadata": {},
   "outputs": [],
   "source": [
    "def yogesh_jhalla(a,b):\n",
    "    return a, b         # no. of argument must be equal to no. of parameter\n",
    "    "
   ]
  },
  {
   "cell_type": "code",
   "execution_count": 33,
   "id": "e93cfbe0",
   "metadata": {},
   "outputs": [
    {
     "data": {
      "text/plain": [
       "(5, 5)"
      ]
     },
     "execution_count": 33,
     "metadata": {},
     "output_type": "execute_result"
    }
   ],
   "source": [
    "yogesh_jhalla(a= 5,b = 5)"
   ]
  },
  {
   "cell_type": "code",
   "execution_count": 14,
   "id": "88c2503b",
   "metadata": {},
   "outputs": [
    {
     "data": {
      "text/plain": [
       "'[1, 2, 3, 4, 5]'"
      ]
     },
     "execution_count": 14,
     "metadata": {},
     "output_type": "execute_result"
    }
   ],
   "source": []
  },
  {
   "cell_type": "code",
   "execution_count": null,
   "id": "35180bde",
   "metadata": {},
   "outputs": [],
   "source": []
  }
 ],
 "metadata": {
  "kernelspec": {
   "display_name": "Python 3 (ipykernel)",
   "language": "python",
   "name": "python3"
  },
  "language_info": {
   "codemirror_mode": {
    "name": "ipython",
    "version": 3
   },
   "file_extension": ".py",
   "mimetype": "text/x-python",
   "name": "python",
   "nbconvert_exporter": "python",
   "pygments_lexer": "ipython3",
   "version": "3.10.5"
  }
 },
 "nbformat": 4,
 "nbformat_minor": 5
}
