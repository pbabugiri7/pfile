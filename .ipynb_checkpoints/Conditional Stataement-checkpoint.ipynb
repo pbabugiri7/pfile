{
 "cells": [
  {
   "cell_type": "markdown",
   "id": "8e3b98dc",
   "metadata": {},
   "source": [
    "# Conditional Statement"
   ]
  },
  {
   "cell_type": "code",
   "execution_count": 1,
   "id": "a60341b0",
   "metadata": {},
   "outputs": [
    {
     "name": "stdout",
     "output_type": "stream",
     "text": [
      "Enter the Number 10000\n"
     ]
    }
   ],
   "source": [
    "a = input('Enter the Number ')"
   ]
  },
  {
   "cell_type": "code",
   "execution_count": 9,
   "id": "765f557e",
   "metadata": {},
   "outputs": [
    {
     "name": "stdout",
     "output_type": "stream",
     "text": [
      "Enter a number:-7\n",
      "The input number is negative\n"
     ]
    }
   ],
   "source": [
    "a = int(input('Enter a number:'))\n",
    "\n",
    "if a >10:\n",
    "    print('The given condition is true')\n",
    "    \n",
    "elif a == 10:\n",
    "    print('The condition is equal')\n",
    "    \n",
    "elif a < 0:\n",
    "    print('The input number is negative')\n",
    "    \n",
    "else:\n",
    "    print('The given condition is false')"
   ]
  },
  {
   "cell_type": "code",
   "execution_count": 13,
   "id": "f8971f9e",
   "metadata": {},
   "outputs": [
    {
     "name": "stdout",
     "output_type": "stream",
     "text": [
      "Enter your age: 77\n",
      "Older age group\n"
     ]
    }
   ],
   "source": [
    "Age = int(input('Enter your age: '))\n",
    "\n",
    "if Age >= 13 and Age <=19:\n",
    "    print('Teenage group')\n",
    "\n",
    "elif Age >= 67:\n",
    "    print('Older age group')\n",
    "    \n",
    "elif Age >= 20 and Age <= 66:\n",
    "    print('Adult group')\n",
    "    \n",
    "else:\n",
    "    print('Child group')\n",
    "    \n"
   ]
  },
  {
   "cell_type": "code",
   "execution_count": 17,
   "id": "ec59b87b",
   "metadata": {},
   "outputs": [
    {
     "name": "stdout",
     "output_type": "stream",
     "text": [
      "Enter a age:32\n",
      "They are eligible to cast vote as their age is: 32\n"
     ]
    }
   ],
   "source": [
    "Age = int(input('Enter a age:'))\n",
    "\n",
    "if Age < 18:\n",
    "    print('They are not eligible to cast vote as their age is:',Age)\n",
    "    \n",
    "else:\n",
    "    print(\"They are eligible to cast vote as their age is:\",Age)\n",
    "    "
   ]
  },
  {
   "cell_type": "code",
   "execution_count": 19,
   "id": "04cd2cae",
   "metadata": {},
   "outputs": [
    {
     "name": "stdout",
     "output_type": "stream",
     "text": [
      "Enter a number:888888\n",
      "Even number\n"
     ]
    }
   ],
   "source": [
    "# To check wheather the given number is even or odd number\n",
    "\n",
    "Num = int(input('Enter a number:'))\n",
    "\n",
    "if Num % 2 == 1:\n",
    "    print('It is odd number')\n",
    "\n",
    "else:\n",
    "    b = 'Even number'\n",
    "    print(b)"
   ]
  },
  {
   "cell_type": "code",
   "execution_count": 24,
   "id": "50c629aa",
   "metadata": {},
   "outputs": [
    {
     "name": "stdout",
     "output_type": "stream",
     "text": [
      "Enter a number:888476\n",
      "The number is not divisible by 7\n"
     ]
    }
   ],
   "source": [
    "Num = int(input('Enter a number:'))\n",
    "\n",
    "if Num % 7 == 0:\n",
    "    print('The number is divisible by 7')\n",
    "    \n",
    "else:\n",
    "    print('The number is not divisible by 7')"
   ]
  },
  {
   "cell_type": "code",
   "execution_count": 26,
   "id": "84d81a28",
   "metadata": {},
   "outputs": [
    {
     "name": "stdout",
     "output_type": "stream",
     "text": [
      "Enter a number:57\n",
      "Bye\n"
     ]
    }
   ],
   "source": [
    "Num = int(input('Enter a number:'))\n",
    "\n",
    "if Num % 5 == 0:\n",
    "    print('Hello')\n",
    "    \n",
    "else:\n",
    "    print('Bye')"
   ]
  },
  {
   "cell_type": "code",
   "execution_count": 29,
   "id": "62cd94b7",
   "metadata": {},
   "outputs": [
    {
     "name": "stdout",
     "output_type": "stream",
     "text": [
      "Enter the number:150\n",
      "Your Payable amount is 250\n",
      "Ram\n"
     ]
    }
   ],
   "source": [
    "Num = int(input('Enter the number:'))\n",
    "\n",
    "if Num <= 100:\n",
    "    price = 0\n",
    "    print(Price)\n",
    "    \n",
    "elif Num>100 and Num<=200:\n",
    "    price = (Num-100)*5\n",
    "    print(f'Your Payable amount is {price}')\n",
    "    \n",
    "else:\n",
    "    price = (100*5)+(Num-200)*10\n",
    "    print(f'The payable amount is {price}')\n",
    "    \n",
    "\n",
    "    \n"
   ]
  },
  {
   "cell_type": "code",
   "execution_count": 32,
   "id": "2a478954",
   "metadata": {},
   "outputs": [
    {
     "name": "stdout",
     "output_type": "stream",
     "text": [
      "Enter a number:380\n",
      "Your payable amount is:2300\n"
     ]
    }
   ],
   "source": [
    "Num = int(input('Enter a number:'))\n",
    "\n",
    "if Num <= 100:\n",
    "    price = 0\n",
    "    \n",
    "elif Num>100 and Num<=200:\n",
    "    price = (Num-100)*5\n",
    "    \n",
    "else:\n",
    "    price = (100*5)+(Num-200)*10\n",
    "print(f'Your payable amount is:{price}')"
   ]
  },
  {
   "cell_type": "code",
   "execution_count": 35,
   "id": "ad79dbf3",
   "metadata": {},
   "outputs": [
    {
     "name": "stdout",
     "output_type": "stream",
     "text": [
      "Enter a number:60\n",
      "The number is divisible\n"
     ]
    }
   ],
   "source": [
    "Num = int(input('Enter a number:'))\n",
    "\n",
    "if Num % 15 == 0:\n",
    "    print(f'The number is divisible')\n",
    "    \n",
    "else:\n",
    "    print(f'The number is not divisible ')\n",
    "    "
   ]
  },
  {
   "cell_type": "code",
   "execution_count": 37,
   "id": "63c3a630",
   "metadata": {},
   "outputs": [
    {
     "name": "stdout",
     "output_type": "stream",
     "text": [
      "Enter a number:1444\n",
      "4\n"
     ]
    }
   ],
   "source": [
    "Num = int(input('Enter a number:'))\n",
    "\n",
    "if Num % 10 == 0:\n",
    "    print('last digit is 0')\n",
    "\n",
    "else:\n",
    "    Result = Num % 10\n",
    "    print(Result)"
   ]
  },
  {
   "cell_type": "code",
   "execution_count": 39,
   "id": "dd98bc9c",
   "metadata": {},
   "outputs": [
    {
     "name": "stdout",
     "output_type": "stream",
     "text": [
      "Enter a number:36\n",
      "The output is divisible by 3\n"
     ]
    }
   ],
   "source": [
    "Num = int(input('Enter a number:'))\n",
    "\n",
    "rem = Num % 10\n",
    "\n",
    "if rem % 3 == 0:\n",
    "    print('The output is divisible by 3')\n",
    "    \n",
    "else:\n",
    "    print('The outpiut is not divisible by 3')"
   ]
  },
  {
   "cell_type": "code",
   "execution_count": null,
   "id": "1f2ac2ca",
   "metadata": {},
   "outputs": [],
   "source": []
  }
 ],
 "metadata": {
  "kernelspec": {
   "display_name": "Python 3 (ipykernel)",
   "language": "python",
   "name": "python3"
  },
  "language_info": {
   "codemirror_mode": {
    "name": "ipython",
    "version": 3
   },
   "file_extension": ".py",
   "mimetype": "text/x-python",
   "name": "python",
   "nbconvert_exporter": "python",
   "pygments_lexer": "ipython3",
   "version": "3.10.5"
  }
 },
 "nbformat": 4,
 "nbformat_minor": 5
}
