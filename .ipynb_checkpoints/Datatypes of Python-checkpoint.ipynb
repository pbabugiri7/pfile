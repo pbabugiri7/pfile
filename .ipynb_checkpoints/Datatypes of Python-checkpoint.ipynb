{
 "cells": [
  {
   "cell_type": "markdown",
   "id": "2df90a63",
   "metadata": {},
   "source": [
    "# Advantage of Python:\n",
    " * Dynamic typing\n",
    " * Interpreted language"
   ]
  },
  {
   "cell_type": "code",
   "execution_count": 1,
   "id": "38eda563",
   "metadata": {},
   "outputs": [
    {
     "name": "stdout",
     "output_type": "stream",
     "text": [
      "Prajwal\n"
     ]
    }
   ],
   "source": [
    "print(\"Prajwal\") #Inbuild function"
   ]
  },
  {
   "cell_type": "markdown",
   "id": "ad924b73",
   "metadata": {},
   "source": [
    "# Datatypes in Python\n",
    "* Integer(int)\n",
    "* String(str)\n",
    "* Boolean(bool)\n",
    "* Float(float)\n",
    "--------------------\n",
    "* List []\n",
    "* Tuples ()\n",
    "* Dictonary {}\n",
    "* Set {}"
   ]
  },
  {
   "cell_type": "raw",
   "id": "cc6fd633",
   "metadata": {},
   "source": [
    "# Python Developer\n",
    "# Data Analysis\n",
    "# Data Engineering\n",
    "# ML Engineering\n",
    "----------------------------\n",
    "# Data Scientist\n"
   ]
  },
  {
   "cell_type": "code",
   "execution_count": 2,
   "id": "363b4a2c",
   "metadata": {},
   "outputs": [],
   "source": [
    "# String\n",
    "a = \"Apple\" # a vannae variable maha \"Apple\" value assign vayo\n",
    "b = \"123\""
   ]
  },
  {
   "cell_type": "code",
   "execution_count": 3,
   "id": "9b2392b8",
   "metadata": {},
   "outputs": [
    {
     "data": {
      "text/plain": [
       "str"
      ]
     },
     "execution_count": 3,
     "metadata": {},
     "output_type": "execute_result"
    }
   ],
   "source": [
    "# Checking type of variable\n",
    "type(a)\n",
    "type(b)"
   ]
  },
  {
   "cell_type": "code",
   "execution_count": 4,
   "id": "28c4afa4",
   "metadata": {},
   "outputs": [
    {
     "name": "stdout",
     "output_type": "stream",
     "text": [
      "123\n",
      "Apple\n"
     ]
    }
   ],
   "source": [
    "print(b)\n",
    "print(a)"
   ]
  },
  {
   "cell_type": "code",
   "execution_count": 5,
   "id": "869d93d8",
   "metadata": {},
   "outputs": [
    {
     "data": {
      "text/plain": [
       "str"
      ]
     },
     "execution_count": 5,
     "metadata": {},
     "output_type": "execute_result"
    }
   ],
   "source": [
    "type(b)\n",
    "type(a)"
   ]
  },
  {
   "cell_type": "code",
   "execution_count": 6,
   "id": "9c6cd7d2",
   "metadata": {},
   "outputs": [
    {
     "name": "stdout",
     "output_type": "stream",
     "text": [
      "2307290785584\n",
      "2307295336240\n"
     ]
    }
   ],
   "source": [
    "# Checking id of variable\n",
    "print(id(b))\n",
    "print(id(a))\n",
    "\n",
    "\n"
   ]
  },
  {
   "cell_type": "code",
   "execution_count": 7,
   "id": "4103af69",
   "metadata": {},
   "outputs": [
    {
     "data": {
      "text/plain": [
       "2307295336240"
      ]
     },
     "execution_count": 7,
     "metadata": {},
     "output_type": "execute_result"
    }
   ],
   "source": [
    "id(a)"
   ]
  },
  {
   "cell_type": "code",
   "execution_count": 8,
   "id": "527473cf",
   "metadata": {},
   "outputs": [
    {
     "data": {
      "text/plain": [
       "2307290785584"
      ]
     },
     "execution_count": 8,
     "metadata": {},
     "output_type": "execute_result"
    }
   ],
   "source": [
    "id(b)"
   ]
  },
  {
   "cell_type": "code",
   "execution_count": 9,
   "id": "a275e513",
   "metadata": {},
   "outputs": [],
   "source": [
    "# Integer\n",
    "b =788\n"
   ]
  },
  {
   "cell_type": "code",
   "execution_count": 10,
   "id": "3872ebb6",
   "metadata": {},
   "outputs": [
    {
     "data": {
      "text/plain": [
       "2307293573904"
      ]
     },
     "execution_count": 10,
     "metadata": {},
     "output_type": "execute_result"
    }
   ],
   "source": [
    "id(b)"
   ]
  },
  {
   "cell_type": "code",
   "execution_count": 11,
   "id": "784ed4dd",
   "metadata": {},
   "outputs": [
    {
     "data": {
      "text/plain": [
       "int"
      ]
     },
     "execution_count": 11,
     "metadata": {},
     "output_type": "execute_result"
    }
   ],
   "source": [
    "type(b)"
   ]
  },
  {
   "cell_type": "code",
   "execution_count": 12,
   "id": "1be69521",
   "metadata": {},
   "outputs": [],
   "source": [
    "# float\n",
    "\n",
    "RAM =1.22222\n"
   ]
  },
  {
   "cell_type": "code",
   "execution_count": 13,
   "id": "468eeb9d",
   "metadata": {},
   "outputs": [
    {
     "data": {
      "text/plain": [
       "float"
      ]
     },
     "execution_count": 13,
     "metadata": {},
     "output_type": "execute_result"
    }
   ],
   "source": [
    "# Checking type of variable\n",
    "type(RAM)"
   ]
  },
  {
   "cell_type": "code",
   "execution_count": 14,
   "id": "efa810b4",
   "metadata": {},
   "outputs": [
    {
     "data": {
      "text/plain": [
       "2307293575632"
      ]
     },
     "execution_count": 14,
     "metadata": {},
     "output_type": "execute_result"
    }
   ],
   "source": [
    "# Checking id of variable\n",
    "id(RAM)"
   ]
  },
  {
   "cell_type": "code",
   "execution_count": 15,
   "id": "502f3581",
   "metadata": {},
   "outputs": [],
   "source": [
    "#Boolean\n",
    "X = True"
   ]
  },
  {
   "cell_type": "code",
   "execution_count": 16,
   "id": "065c231a",
   "metadata": {},
   "outputs": [
    {
     "data": {
      "text/plain": [
       "bool"
      ]
     },
     "execution_count": 16,
     "metadata": {},
     "output_type": "execute_result"
    }
   ],
   "source": [
    "# Checking variable type\n",
    "type(X)"
   ]
  },
  {
   "cell_type": "code",
   "execution_count": null,
   "id": "1c57d511",
   "metadata": {},
   "outputs": [],
   "source": [
    "# Checking id type\n",
    "id(X)"
   ]
  },
  {
   "cell_type": "code",
   "execution_count": null,
   "id": "2d063548",
   "metadata": {},
   "outputs": [],
   "source": [
    "# Assign multiple vlue to multiple variable\n",
    "\n",
    "a, b, c = False, True, \"3\"\n"
   ]
  },
  {
   "cell_type": "code",
   "execution_count": null,
   "id": "4089ae09",
   "metadata": {},
   "outputs": [],
   "source": [
    "type(c)"
   ]
  },
  {
   "cell_type": "code",
   "execution_count": null,
   "id": "d5fdb678",
   "metadata": {},
   "outputs": [],
   "source": [
    "id(b)"
   ]
  },
  {
   "cell_type": "code",
   "execution_count": null,
   "id": "cc09ab35",
   "metadata": {},
   "outputs": [],
   "source": [
    "type(a)"
   ]
  },
  {
   "cell_type": "code",
   "execution_count": null,
   "id": "bef5765f",
   "metadata": {},
   "outputs": [],
   "source": [
    "id(a)\n",
    "id(b)"
   ]
  },
  {
   "cell_type": "code",
   "execution_count": null,
   "id": "274c7a9c",
   "metadata": {},
   "outputs": [],
   "source": [
    "print(a)\n",
    "print(c)"
   ]
  },
  {
   "cell_type": "code",
   "execution_count": null,
   "id": "be267d92",
   "metadata": {},
   "outputs": [],
   "source": [
    "print(b)\n",
    "type(b)"
   ]
  },
  {
   "cell_type": "code",
   "execution_count": null,
   "id": "a25acef9",
   "metadata": {},
   "outputs": [],
   "source": [
    "id(a)\n",
    "id(b)\n",
    "id(c)"
   ]
  },
  {
   "cell_type": "code",
   "execution_count": null,
   "id": "752258cd",
   "metadata": {},
   "outputs": [],
   "source": [
    "id(c)"
   ]
  },
  {
   "cell_type": "code",
   "execution_count": null,
   "id": "e2986d74",
   "metadata": {},
   "outputs": [],
   "source": [
    "id(b)"
   ]
  },
  {
   "cell_type": "code",
   "execution_count": null,
   "id": "89c734e3",
   "metadata": {},
   "outputs": [],
   "source": [
    "# Swaping two variables value\n",
    "a = 2\n",
    "b = 3"
   ]
  },
  {
   "cell_type": "code",
   "execution_count": null,
   "id": "f8c83a24",
   "metadata": {},
   "outputs": [],
   "source": [
    "c = a\n",
    "a = b\n",
    "b = c\n"
   ]
  },
  {
   "cell_type": "code",
   "execution_count": null,
   "id": "2463de6a",
   "metadata": {},
   "outputs": [],
   "source": [
    "a"
   ]
  },
  {
   "cell_type": "code",
   "execution_count": null,
   "id": "a45892d4",
   "metadata": {},
   "outputs": [],
   "source": [
    "b"
   ]
  },
  {
   "cell_type": "code",
   "execution_count": null,
   "id": "bcb8772c",
   "metadata": {},
   "outputs": [],
   "source": [
    "a = 2\n",
    "b = 3"
   ]
  },
  {
   "cell_type": "code",
   "execution_count": null,
   "id": "33932665",
   "metadata": {},
   "outputs": [],
   "source": [
    "a, b = b, a"
   ]
  },
  {
   "cell_type": "code",
   "execution_count": null,
   "id": "1a1bd3a6",
   "metadata": {},
   "outputs": [],
   "source": [
    "a"
   ]
  },
  {
   "cell_type": "code",
   "execution_count": null,
   "id": "dc32d184",
   "metadata": {},
   "outputs": [],
   "source": [
    "b"
   ]
  },
  {
   "cell_type": "code",
   "execution_count": null,
   "id": "44aae9cd",
   "metadata": {},
   "outputs": [],
   "source": [
    "Devesh_Age = 22"
   ]
  },
  {
   "cell_type": "code",
   "execution_count": null,
   "id": "343c9a57",
   "metadata": {},
   "outputs": [],
   "source": [
    "Devesh_Age"
   ]
  },
  {
   "cell_type": "code",
   "execution_count": null,
   "id": "b881aba3",
   "metadata": {},
   "outputs": [],
   "source": [
    "Blood_Group = \"A+\""
   ]
  },
  {
   "cell_type": "code",
   "execution_count": null,
   "id": "19cf16a5",
   "metadata": {},
   "outputs": [],
   "source": [
    "Blood_Group"
   ]
  },
  {
   "cell_type": "code",
   "execution_count": null,
   "id": "06833041",
   "metadata": {},
   "outputs": [],
   "source": [
    "print = 3\n"
   ]
  },
  {
   "cell_type": "code",
   "execution_count": null,
   "id": "9ff98149",
   "metadata": {},
   "outputs": [],
   "source": [
    "print"
   ]
  },
  {
   "cell_type": "code",
   "execution_count": null,
   "id": "cc7d17e3",
   "metadata": {},
   "outputs": [],
   "source": [
    "a = 3"
   ]
  },
  {
   "cell_type": "code",
   "execution_count": null,
   "id": "69c7882c",
   "metadata": {},
   "outputs": [],
   "source": [
    "a"
   ]
  },
  {
   "cell_type": "code",
   "execution_count": null,
   "id": "6a004730",
   "metadata": {},
   "outputs": [],
   "source": [
    "type(a)"
   ]
  },
  {
   "cell_type": "code",
   "execution_count": null,
   "id": "c543832d",
   "metadata": {},
   "outputs": [],
   "source": [
    "id(a)"
   ]
  },
  {
   "cell_type": "code",
   "execution_count": null,
   "id": "5b8c3931",
   "metadata": {},
   "outputs": [],
   "source": [
    "print(a)"
   ]
  },
  {
   "cell_type": "code",
   "execution_count": null,
   "id": "0012bbaa",
   "metadata": {},
   "outputs": [],
   "source": [
    " # Formatting\n",
    "Age = 22\n",
    "print('My age is ', Age)"
   ]
  },
  {
   "cell_type": "code",
   "execution_count": null,
   "id": "f52e399e",
   "metadata": {},
   "outputs": [],
   "source": [
    "# Formatting\n",
    "print('My sister age is', Age, 'and she is a good student')"
   ]
  },
  {
   "cell_type": "code",
   "execution_count": null,
   "id": "5a0a9773",
   "metadata": {},
   "outputs": [],
   "source": [
    "# Formatting\n",
    "print(f'My brother age is {Age} and he is a good speaker')"
   ]
  },
  {
   "cell_type": "code",
   "execution_count": null,
   "id": "266ccdf8",
   "metadata": {},
   "outputs": [],
   "source": [
    "#Formatting\n",
    "print(f'10 years ago my father was {Age} years old {a} qwerty {Age} ') #fstring use garda Variable ko value chaiyo vni {}vitra lekhnae"
   ]
  },
  {
   "cell_type": "markdown",
   "id": "5a336a00",
   "metadata": {},
   "source": [
    "  # List"
   ]
  },
  {
   "cell_type": "code",
   "execution_count": null,
   "id": "cade1ea6",
   "metadata": {},
   "outputs": [],
   "source": [
    "L = [1,2.2,'Tree',True]"
   ]
  },
  {
   "cell_type": "code",
   "execution_count": null,
   "id": "6230f336",
   "metadata": {},
   "outputs": [],
   "source": [
    "type(L)"
   ]
  },
  {
   "cell_type": "code",
   "execution_count": 1,
   "id": "6c7e4169",
   "metadata": {},
   "outputs": [],
   "source": [
    "Fruits =['Orange','Apple','Kiwi','Peach','Banana','Pineapple','Guava','Licchi','Kafal']"
   ]
  },
  {
   "cell_type": "code",
   "execution_count": null,
   "id": "1a244c0c",
   "metadata": {},
   "outputs": [],
   "source": [
    "Fruits[3]"
   ]
  },
  {
   "cell_type": "markdown",
   "id": "9cf1c0d0",
   "metadata": {},
   "source": [
    "# Slicing"
   ]
  },
  {
   "cell_type": "code",
   "execution_count": null,
   "id": "f4c5ac78",
   "metadata": {},
   "outputs": [],
   "source": [
    "Fruits[0:]"
   ]
  },
  {
   "cell_type": "code",
   "execution_count": null,
   "id": "3021d513",
   "metadata": {},
   "outputs": [],
   "source": [
    "Fruits[-5:-2]"
   ]
  },
  {
   "cell_type": "code",
   "execution_count": null,
   "id": "6115070a",
   "metadata": {},
   "outputs": [],
   "source": [
    "Fruits[:3]"
   ]
  },
  {
   "cell_type": "code",
   "execution_count": null,
   "id": "569196b1",
   "metadata": {},
   "outputs": [],
   "source": [
    "Fruits[:]"
   ]
  },
  {
   "cell_type": "code",
   "execution_count": 3,
   "id": "cf0a3ce3",
   "metadata": {},
   "outputs": [
    {
     "data": {
      "text/plain": [
       "['Orange', 'Kiwi', 'Banana']"
      ]
     },
     "execution_count": 3,
     "metadata": {},
     "output_type": "execute_result"
    }
   ],
   "source": [
    "Fruits[:5:2]"
   ]
  },
  {
   "cell_type": "code",
   "execution_count": 10,
   "id": "36038bb4",
   "metadata": {},
   "outputs": [
    {
     "data": {
      "text/plain": [
       "['Apple', 'Kiwi', 'Peach', 'Banana']"
      ]
     },
     "execution_count": 10,
     "metadata": {},
     "output_type": "execute_result"
    }
   ],
   "source": [
    "Fruits =['Orange','Apple','Kiwi','Peach','Banana','Pineapple','Guava','Licchi','Kafal',\"Cocunut\",\"Avocado\",\"Watermelon\"]\n",
    "Fruits[1:5]"
   ]
  },
  {
   "cell_type": "code",
   "execution_count": 13,
   "id": "29e26c57",
   "metadata": {},
   "outputs": [
    {
     "data": {
      "text/plain": [
       "['Peach', 'Guava', 'Cocunut']"
      ]
     },
     "execution_count": 13,
     "metadata": {},
     "output_type": "execute_result"
    }
   ],
   "source": [
    "Fruits[3:11:3] # [start:End:Jump]"
   ]
  },
  {
   "cell_type": "code",
   "execution_count": 14,
   "id": "d8620759",
   "metadata": {},
   "outputs": [
    {
     "name": "stdout",
     "output_type": "stream",
     "text": [
      "My father age is  50 and he is very gentle\n"
     ]
    }
   ],
   "source": [
    "Age =50\n",
    "print('My father age is ', Age, 'and he is very gentle')"
   ]
  },
  {
   "cell_type": "code",
   "execution_count": 18,
   "id": "1de7ad57",
   "metadata": {},
   "outputs": [
    {
     "name": "stdout",
     "output_type": "stream",
     "text": [
      "My father age is 50 and my mother name is Durga Giri & she is 44 years old\n"
     ]
    }
   ],
   "source": [
    "Name = \"Durga\"\n",
    "MAge = 44\n",
    "print(f'My father age is {Age} and my mother name is {Name} Giri & she is {MAge} years old' )"
   ]
  },
  {
   "cell_type": "code",
   "execution_count": 29,
   "id": "67b3090d",
   "metadata": {},
   "outputs": [],
   "source": [
    "a = 2\n",
    "b = 3"
   ]
  },
  {
   "cell_type": "code",
   "execution_count": 30,
   "id": "0b315774",
   "metadata": {},
   "outputs": [],
   "source": [
    "a, b = b, a"
   ]
  },
  {
   "cell_type": "code",
   "execution_count": 27,
   "id": "03a28ca2",
   "metadata": {},
   "outputs": [
    {
     "data": {
      "text/plain": [
       "3"
      ]
     },
     "execution_count": 27,
     "metadata": {},
     "output_type": "execute_result"
    }
   ],
   "source": [
    "a"
   ]
  },
  {
   "cell_type": "code",
   "execution_count": 28,
   "id": "9e696d4c",
   "metadata": {},
   "outputs": [
    {
     "data": {
      "text/plain": [
       "2"
      ]
     },
     "execution_count": 28,
     "metadata": {},
     "output_type": "execute_result"
    }
   ],
   "source": [
    "b"
   ]
  },
  {
   "cell_type": "code",
   "execution_count": 20,
   "id": "e2085ab5",
   "metadata": {},
   "outputs": [],
   "source": [
    "c = a\n",
    "a = b \n",
    "b = c"
   ]
  },
  {
   "cell_type": "code",
   "execution_count": 21,
   "id": "9ad797d9",
   "metadata": {},
   "outputs": [
    {
     "data": {
      "text/plain": [
       "3"
      ]
     },
     "execution_count": 21,
     "metadata": {},
     "output_type": "execute_result"
    }
   ],
   "source": [
    "a\n"
   ]
  },
  {
   "cell_type": "code",
   "execution_count": 22,
   "id": "284bd432",
   "metadata": {},
   "outputs": [
    {
     "data": {
      "text/plain": [
       "2"
      ]
     },
     "execution_count": 22,
     "metadata": {},
     "output_type": "execute_result"
    }
   ],
   "source": [
    "b"
   ]
  },
  {
   "cell_type": "code",
   "execution_count": null,
   "id": "070a1c95",
   "metadata": {},
   "outputs": [],
   "source": [
    "A = ['a','e','i','o','u'] \n",
    "A[0:4:2]"
   ]
  },
  {
   "cell_type": "markdown",
   "id": "6b47d49d",
   "metadata": {},
   "source": [
    "# Typecasting "
   ]
  },
  {
   "cell_type": "code",
   "execution_count": 34,
   "id": "01251a10",
   "metadata": {},
   "outputs": [
    {
     "data": {
      "text/plain": [
       "list"
      ]
     },
     "execution_count": 34,
     "metadata": {},
     "output_type": "execute_result"
    }
   ],
   "source": [
    "type(A)"
   ]
  },
  {
   "cell_type": "code",
   "execution_count": 35,
   "id": "0569d304",
   "metadata": {},
   "outputs": [
    {
     "data": {
      "text/plain": [
       "2195426581632"
      ]
     },
     "execution_count": 35,
     "metadata": {},
     "output_type": "execute_result"
    }
   ],
   "source": [
    "id(A)"
   ]
  },
  {
   "cell_type": "code",
   "execution_count": 36,
   "id": "630af19d",
   "metadata": {},
   "outputs": [],
   "source": [
    "A = [1,'22',True,2.5]"
   ]
  },
  {
   "cell_type": "code",
   "execution_count": 37,
   "id": "6c8d19a7",
   "metadata": {},
   "outputs": [
    {
     "name": "stdout",
     "output_type": "stream",
     "text": [
      "[1, '22', True, 2.5]\n"
     ]
    }
   ],
   "source": [
    "print(A)"
   ]
  },
  {
   "cell_type": "code",
   "execution_count": 38,
   "id": "5be4a4ce",
   "metadata": {},
   "outputs": [
    {
     "data": {
      "text/plain": [
       "[1]"
      ]
     },
     "execution_count": 38,
     "metadata": {},
     "output_type": "execute_result"
    }
   ],
   "source": [
    "A[0:1:3]"
   ]
  },
  {
   "cell_type": "code",
   "execution_count": 5,
   "id": "21c1eb01",
   "metadata": {},
   "outputs": [
    {
     "data": {
      "text/plain": [
       "55.0"
      ]
     },
     "execution_count": 5,
     "metadata": {},
     "output_type": "execute_result"
    }
   ],
   "source": [
    " # Typecasting from integer to float\n",
    "a = 55\n",
    "float(a)"
   ]
  },
  {
   "cell_type": "code",
   "execution_count": 13,
   "id": "078d33b3",
   "metadata": {},
   "outputs": [
    {
     "name": "stdout",
     "output_type": "stream",
     "text": [
      "55.0\n"
     ]
    },
    {
     "data": {
      "text/plain": [
       "55"
      ]
     },
     "execution_count": 13,
     "metadata": {},
     "output_type": "execute_result"
    }
   ],
   "source": [
    "type(float(a))\n",
    "b = float(a)\n",
    "print(b)\n",
    "a\n",
    "\n"
   ]
  },
  {
   "cell_type": "markdown",
   "id": "357b8055",
   "metadata": {},
   "source": [
    "# Float to integer\n"
   ]
  },
  {
   "cell_type": "code",
   "execution_count": 16,
   "id": "84af10ff",
   "metadata": {},
   "outputs": [
    {
     "data": {
      "text/plain": [
       "22"
      ]
     },
     "execution_count": 16,
     "metadata": {},
     "output_type": "execute_result"
    }
   ],
   "source": [
    "R = 22.3\n",
    "int(R)"
   ]
  },
  {
   "cell_type": "code",
   "execution_count": 22,
   "id": "29258a7c",
   "metadata": {},
   "outputs": [
    {
     "data": {
      "text/plain": [
       "33"
      ]
     },
     "execution_count": 22,
     "metadata": {},
     "output_type": "execute_result"
    }
   ],
   "source": [
    "D = 33.33\n",
    "G = int(D)\n",
    "G\n"
   ]
  },
  {
   "cell_type": "markdown",
   "id": "44074bbf",
   "metadata": {},
   "source": [
    "# Integer to String \n",
    "* Typecasting from one datatype to another in some cases it won't work which is given below."
   ]
  },
  {
   "cell_type": "code",
   "execution_count": 25,
   "id": "c81ef9a1",
   "metadata": {},
   "outputs": [
    {
     "data": {
      "text/plain": [
       "'22'"
      ]
     },
     "execution_count": 25,
     "metadata": {},
     "output_type": "execute_result"
    }
   ],
   "source": [
    "A = 22\n",
    "V = str(A)\n",
    "V"
   ]
  },
  {
   "cell_type": "code",
   "execution_count": 28,
   "id": "5375da90",
   "metadata": {},
   "outputs": [
    {
     "data": {
      "text/plain": [
       "'2.333'"
      ]
     },
     "execution_count": 28,
     "metadata": {},
     "output_type": "execute_result"
    }
   ],
   "source": [
    "E = 2.333\n",
    "R = str(E)\n",
    "R"
   ]
  },
  {
   "cell_type": "code",
   "execution_count": 30,
   "id": "9ec42264",
   "metadata": {},
   "outputs": [
    {
     "data": {
      "text/plain": [
       "22"
      ]
     },
     "execution_count": 30,
     "metadata": {},
     "output_type": "execute_result"
    }
   ],
   "source": [
    "Y = \"22\"\n",
    "U = int(Y)\n",
    "U"
   ]
  },
  {
   "cell_type": "code",
   "execution_count": null,
   "id": "aea33596",
   "metadata": {},
   "outputs": [],
   "source": []
  },
  {
   "cell_type": "code",
   "execution_count": null,
   "id": "7562b3cb",
   "metadata": {},
   "outputs": [],
   "source": []
  },
  {
   "cell_type": "code",
   "execution_count": null,
   "id": "5777f020",
   "metadata": {},
   "outputs": [],
   "source": []
  }
 ],
 "metadata": {
  "kernelspec": {
   "display_name": "Python 3 (ipykernel)",
   "language": "python",
   "name": "python3"
  },
  "language_info": {
   "codemirror_mode": {
    "name": "ipython",
    "version": 3
   },
   "file_extension": ".py",
   "mimetype": "text/x-python",
   "name": "python",
   "nbconvert_exporter": "python",
   "pygments_lexer": "ipython3",
   "version": "3.10.5"
  }
 },
 "nbformat": 4,
 "nbformat_minor": 5
}
