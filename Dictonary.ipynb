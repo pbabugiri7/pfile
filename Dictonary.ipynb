{
 "cells": [
  {
   "cell_type": "markdown",
   "id": "0e84d18b",
   "metadata": {},
   "source": [
    "# Dictonary\n",
    "* key : value Pair"
   ]
  },
  {
   "cell_type": "code",
   "execution_count": 1,
   "id": "4a4554d7",
   "metadata": {},
   "outputs": [
    {
     "data": {
      "text/plain": [
       "dict_keys(['apple', 'ball', 'car'])"
      ]
     },
     "execution_count": 1,
     "metadata": {},
     "output_type": "execute_result"
    }
   ],
   "source": [
    "a = {'apple' :1, 'ball' :2, 'car' :3} # key : value pair\n",
    "a.keys()"
   ]
  },
  {
   "cell_type": "code",
   "execution_count": 5,
   "id": "fa294801",
   "metadata": {},
   "outputs": [
    {
     "data": {
      "text/plain": [
       "dict_values([1, 2, 3])"
      ]
     },
     "execution_count": 5,
     "metadata": {},
     "output_type": "execute_result"
    }
   ],
   "source": [
    "a.values()"
   ]
  },
  {
   "cell_type": "code",
   "execution_count": 7,
   "id": "428854ee",
   "metadata": {},
   "outputs": [
    {
     "data": {
      "text/plain": [
       "dict_keys(['Apple', 'Orange', 'Mango'])"
      ]
     },
     "execution_count": 7,
     "metadata": {},
     "output_type": "execute_result"
    }
   ],
   "source": [
    "D = {'Apple' : 1, 'Orange' : 2, 'Mango': 6}\n",
    "D.keys()"
   ]
  },
  {
   "cell_type": "code",
   "execution_count": 8,
   "id": "fc747bc1",
   "metadata": {},
   "outputs": [
    {
     "data": {
      "text/plain": [
       "dict_values([1, 2, 6])"
      ]
     },
     "execution_count": 8,
     "metadata": {},
     "output_type": "execute_result"
    }
   ],
   "source": [
    "D.values()"
   ]
  },
  {
   "cell_type": "markdown",
   "id": "5ebd4479",
   "metadata": {},
   "source": [
    "# Accessing value using keys\n"
   ]
  },
  {
   "cell_type": "code",
   "execution_count": 15,
   "id": "ebf9e69b",
   "metadata": {},
   "outputs": [
    {
     "data": {
      "text/plain": [
       "1"
      ]
     },
     "execution_count": 15,
     "metadata": {},
     "output_type": "execute_result"
    }
   ],
   "source": [
    "D = {'Apple' : 1, 'Orange' : 2, 'Mango': 6}\n",
    "D['Apple']"
   ]
  },
  {
   "cell_type": "code",
   "execution_count": 18,
   "id": "1c5cbad3",
   "metadata": {},
   "outputs": [
    {
     "data": {
      "text/plain": [
       "2"
      ]
     },
     "execution_count": 18,
     "metadata": {},
     "output_type": "execute_result"
    }
   ],
   "source": [
    "D.get('Orange')  # variable_name.getfunction(key)\n"
   ]
  },
  {
   "cell_type": "markdown",
   "id": "358387a1",
   "metadata": {},
   "source": [
    "# pop"
   ]
  },
  {
   "cell_type": "code",
   "execution_count": 28,
   "id": "6237b2c0",
   "metadata": {},
   "outputs": [
    {
     "data": {
      "text/plain": [
       "{'Apple': 1, 'Orange': 2}"
      ]
     },
     "execution_count": 28,
     "metadata": {},
     "output_type": "execute_result"
    }
   ],
   "source": [
    "D = {'Apple' : 1, 'Orange' : 2, 'Mango': 6}\n",
    "D.pop('Apple')\n",
    "D"
   ]
  },
  {
   "cell_type": "markdown",
   "id": "7c457652",
   "metadata": {},
   "source": [
    "# Add new value"
   ]
  },
  {
   "cell_type": "code",
   "execution_count": 27,
   "id": "6f091549",
   "metadata": {},
   "outputs": [
    {
     "data": {
      "text/plain": [
       "{'Apple': 1, 'Orange': 2, 'Mango': 6, 'Kiwi': 5}"
      ]
     },
     "execution_count": 27,
     "metadata": {},
     "output_type": "execute_result"
    }
   ],
   "source": [
    "D = {'Apple' : 1, 'Orange' : 2, 'Mango': 6}\n",
    "D.update({'Kiwi': 5})\n",
    "D"
   ]
  },
  {
   "cell_type": "code",
   "execution_count": 29,
   "id": "8fa5a3f2",
   "metadata": {},
   "outputs": [
    {
     "data": {
      "text/plain": [
       "{'Apple': 1, 'Orange': 2, 'Mango': 6, 'Name': 'Ram'}"
      ]
     },
     "execution_count": 29,
     "metadata": {},
     "output_type": "execute_result"
    }
   ],
   "source": [
    "D = {'Apple' : 1, 'Orange' : 2, 'Mango': 6}\n",
    "D['Name'] = \"Ram\"\n",
    "D"
   ]
  },
  {
   "cell_type": "code",
   "execution_count": null,
   "id": "9e579d48",
   "metadata": {},
   "outputs": [],
   "source": []
  }
 ],
 "metadata": {
  "kernelspec": {
   "display_name": "Python 3 (ipykernel)",
   "language": "python",
   "name": "python3"
  },
  "language_info": {
   "codemirror_mode": {
    "name": "ipython",
    "version": 3
   },
   "file_extension": ".py",
   "mimetype": "text/x-python",
   "name": "python",
   "nbconvert_exporter": "python",
   "pygments_lexer": "ipython3",
   "version": "3.10.5"
  }
 },
 "nbformat": 4,
 "nbformat_minor": 5
}
