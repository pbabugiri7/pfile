{
 "cells": [
  {
   "cell_type": "code",
   "execution_count": 1,
   "id": "f01a7eb6",
   "metadata": {},
   "outputs": [
    {
     "data": {
      "text/plain": [
       "range(0, 9)"
      ]
     },
     "execution_count": 1,
     "metadata": {},
     "output_type": "execute_result"
    }
   ],
   "source": [
    "range(9)"
   ]
  },
  {
   "cell_type": "code",
   "execution_count": 2,
   "id": "47a49951",
   "metadata": {},
   "outputs": [
    {
     "data": {
      "text/plain": [
       "[0, 1, 2, 3, 4, 5, 6, 7]"
      ]
     },
     "execution_count": 2,
     "metadata": {},
     "output_type": "execute_result"
    }
   ],
   "source": [
    "list(range(8))"
   ]
  },
  {
   "cell_type": "code",
   "execution_count": 3,
   "id": "5c819a87",
   "metadata": {},
   "outputs": [
    {
     "data": {
      "text/plain": [
       "(0, 1, 2, 3, 4, 5, 6, 7, 8, 9)"
      ]
     },
     "execution_count": 3,
     "metadata": {},
     "output_type": "execute_result"
    }
   ],
   "source": [
    "tuple(range(10))"
   ]
  },
  {
   "cell_type": "code",
   "execution_count": 4,
   "id": "d5770c36",
   "metadata": {},
   "outputs": [
    {
     "data": {
      "text/plain": [
       "{0, 1, 2, 3, 4, 5, 6, 7, 8, 9, 10}"
      ]
     },
     "execution_count": 4,
     "metadata": {},
     "output_type": "execute_result"
    }
   ],
   "source": [
    "set(range(11))"
   ]
  },
  {
   "cell_type": "code",
   "execution_count": 9,
   "id": "dffbb3ff",
   "metadata": {},
   "outputs": [
    {
     "data": {
      "text/plain": [
       "10"
      ]
     },
     "execution_count": 9,
     "metadata": {},
     "output_type": "execute_result"
    }
   ],
   "source": [
    "import random\n",
    "random.seed(22.22)\n",
    "random.randint(1,12)"
   ]
  },
  {
   "cell_type": "code",
   "execution_count": 14,
   "id": "20c55fc1",
   "metadata": {},
   "outputs": [
    {
     "name": "stdout",
     "output_type": "stream",
     "text": [
      "1\n",
      "2\n",
      "3\n",
      "4\n",
      "5\n",
      "6\n",
      "7\n"
     ]
    }
   ],
   "source": [
    "L = [1,2,3,4,5,6,7]\n",
    "for i in L:\n",
    "    print(i)"
   ]
  },
  {
   "cell_type": "code",
   "execution_count": 15,
   "id": "bdbc7d13",
   "metadata": {},
   "outputs": [
    {
     "name": "stdout",
     "output_type": "stream",
     "text": [
      "3\n",
      "5\n",
      "6\n",
      "7\n",
      "10\n",
      "11\n",
      "12\n"
     ]
    }
   ],
   "source": [
    "r = (1,3,4,5,8,9,10)\n",
    "for y in r:\n",
    "    c = y + 2\n",
    "    print(c)"
   ]
  },
  {
   "cell_type": "code",
   "execution_count": 17,
   "id": "3251b8b7",
   "metadata": {},
   "outputs": [
    {
     "name": "stdout",
     "output_type": "stream",
     "text": [
      "Apple\n",
      "Banana\n",
      "Mango\n",
      "Peach\n",
      "Guava\n",
      "Pineapple\n"
     ]
    }
   ],
   "source": [
    "Fruits = ['Apple','Banana','Mango','Peach','Guava','Pineapple']\n",
    "for items in Fruits:\n",
    "    print(items)"
   ]
  },
  {
   "cell_type": "code",
   "execution_count": 18,
   "id": "0c0d1ab5",
   "metadata": {},
   "outputs": [
    {
     "name": "stdout",
     "output_type": "stream",
     "text": [
      "0\n",
      "1\n",
      "2\n",
      "3\n",
      "4\n",
      "5\n"
     ]
    }
   ],
   "source": [
    "Fruits = ['Apple','Banana','Mango','Peach','Guava','Pineapple']\n",
    "for index in range(len(Fruits)):\n",
    "    print(index)\n",
    "    \n"
   ]
  },
  {
   "cell_type": "code",
   "execution_count": 20,
   "id": "5af5c7d4",
   "metadata": {},
   "outputs": [
    {
     "name": "stdout",
     "output_type": "stream",
     "text": [
      "0 Apple\n",
      "1 Banana\n",
      "2 Mango\n",
      "3 Peach\n",
      "4 Guava\n",
      "5 Pineapple\n"
     ]
    }
   ],
   "source": [
    "Fruits = ['Apple','Banana','Mango','Peach','Guava','Pineapple']\n",
    "for index in range(len(Fruits)):\n",
    "        print(index, Fruits[index])"
   ]
  },
  {
   "cell_type": "code",
   "execution_count": 21,
   "id": "96b423a4",
   "metadata": {},
   "outputs": [
    {
     "data": {
      "text/plain": [
       "'Banana'"
      ]
     },
     "execution_count": 21,
     "metadata": {},
     "output_type": "execute_result"
    }
   ],
   "source": [
    "Fruits[1]"
   ]
  },
  {
   "cell_type": "code",
   "execution_count": 22,
   "id": "9af76d54",
   "metadata": {},
   "outputs": [
    {
     "data": {
      "text/plain": [
       "'Guava'"
      ]
     },
     "execution_count": 22,
     "metadata": {},
     "output_type": "execute_result"
    }
   ],
   "source": [
    "Fruits[4]"
   ]
  },
  {
   "cell_type": "code",
   "execution_count": 23,
   "id": "070a6b71",
   "metadata": {},
   "outputs": [
    {
     "data": {
      "text/plain": [
       "[(0, 'Apple'),\n",
       " (1, 'Banana'),\n",
       " (2, 'Mango'),\n",
       " (3, 'Peach'),\n",
       " (4, 'Guava'),\n",
       " (5, 'Pineapple')]"
      ]
     },
     "execution_count": 23,
     "metadata": {},
     "output_type": "execute_result"
    }
   ],
   "source": [
    "fruits = ['Apple','Banana','Mango','Peach','Guava','Pineapple']\n",
    "em = enumerate(fruits)\n",
    "list(em)"
   ]
  },
  {
   "cell_type": "code",
   "execution_count": 24,
   "id": "987754dd",
   "metadata": {},
   "outputs": [
    {
     "name": "stdout",
     "output_type": "stream",
     "text": [
      "0 Apple\n",
      "1 Banana\n",
      "2 Mango\n",
      "3 Peach\n",
      "4 Guava\n",
      "5 Pineapple\n"
     ]
    }
   ],
   "source": [
    "fruits = ['Apple','Banana','Mango','Peach','Guava','Pineapple']\n",
    "for index , value in enumerate(fruits):\n",
    "    print(index, value)"
   ]
  },
  {
   "cell_type": "code",
   "execution_count": 25,
   "id": "1ae0d9eb",
   "metadata": {},
   "outputs": [
    {
     "name": "stdout",
     "output_type": "stream",
     "text": [
      "0 Apple\n",
      "1 Banana\n",
      "2 Mango\n",
      "3 Peach\n",
      "4 Guava\n",
      "5 Pineapple\n"
     ]
    }
   ],
   "source": [
    "fruits = ['Apple','Banana','Mango','Peach','Guava','Pineapple']\n",
    "for index, value in enumerate(fruits):\n",
    "    print(index,value)"
   ]
  },
  {
   "cell_type": "code",
   "execution_count": 26,
   "id": "94286354",
   "metadata": {},
   "outputs": [
    {
     "data": {
      "text/plain": [
       "[(0, 'Apple'),\n",
       " (1, 'Banana'),\n",
       " (2, 'Mango'),\n",
       " (3, 'Peach'),\n",
       " (4, 'Guava'),\n",
       " (5, 'Pineapple')]"
      ]
     },
     "execution_count": 26,
     "metadata": {},
     "output_type": "execute_result"
    }
   ],
   "source": [
    "fruits = ['Apple','Banana','Mango','Peach','Guava','Pineapple']\n",
    "em = enumerate(fruits)\n",
    "list(em)"
   ]
  },
  {
   "cell_type": "code",
   "execution_count": 27,
   "id": "8d6500de",
   "metadata": {},
   "outputs": [
    {
     "name": "stdout",
     "output_type": "stream",
     "text": [
      "0 Apple\n",
      "1 Banana\n",
      "2 Mango\n",
      "3 Peach\n",
      "4 Guava\n",
      "5 Pineapple\n"
     ]
    }
   ],
   "source": [
    "fruits = ['Apple','Banana','Mango','Peach','Guava','Pineapple']\n",
    "for index,value in enumerate(fruits):\n",
    "    print(index,value)\n"
   ]
  },
  {
   "cell_type": "code",
   "execution_count": 28,
   "id": "f1bc1aa6",
   "metadata": {},
   "outputs": [
    {
     "data": {
      "text/plain": [
       "[(0, 1), (1, 2), (2, 3), (3, 4), (4, 5), (5, 6)]"
      ]
     },
     "execution_count": 28,
     "metadata": {},
     "output_type": "execute_result"
    }
   ],
   "source": [
    "l = [1,2,3,4,5,6]\n",
    "em = enumerate(l)\n",
    "list(em)"
   ]
  },
  {
   "cell_type": "code",
   "execution_count": 30,
   "id": "884af25e",
   "metadata": {},
   "outputs": [
    {
     "data": {
      "text/plain": [
       "[1, 4, 7]"
      ]
     },
     "execution_count": 30,
     "metadata": {},
     "output_type": "execute_result"
    }
   ],
   "source": [
    "range(1,10,3)\n",
    "list(range(1,10,3))"
   ]
  },
  {
   "cell_type": "code",
   "execution_count": 35,
   "id": "42a2729f",
   "metadata": {},
   "outputs": [
    {
     "name": "stdout",
     "output_type": "stream",
     "text": [
      "5 * 1 = 5\n",
      "5 * 2 = 10\n",
      "5 * 3 = 15\n",
      "5 * 4 = 20\n",
      "5 * 5 = 25\n",
      "5 * 6 = 30\n",
      "5 * 7 = 35\n",
      "5 * 8 = 40\n",
      "5 * 9 = 45\n",
      "5 * 10 = 50\n"
     ]
    }
   ],
   "source": [
    "for i in range(1,11):\n",
    "    a = 5 * i\n",
    "    print(f'5 * {i} = {a}')"
   ]
  },
  {
   "cell_type": "code",
   "execution_count": 36,
   "id": "0f3384b0",
   "metadata": {},
   "outputs": [
    {
     "name": "stdout",
     "output_type": "stream",
     "text": [
      "11 * 1 = 11\n",
      "11 * 2 = 22\n",
      "11 * 3 = 33\n",
      "11 * 4 = 44\n",
      "11 * 5 = 55\n",
      "11 * 6 = 66\n",
      "11 * 7 = 77\n",
      "11 * 8 = 88\n",
      "11 * 9 = 99\n",
      "11 * 10 = 110\n"
     ]
    }
   ],
   "source": [
    "for i in range(1,11):\n",
    "    a = 11 * i\n",
    "    print(f'11 * {i} = {a}')"
   ]
  },
  {
   "cell_type": "code",
   "execution_count": 40,
   "id": "0aa67b8f",
   "metadata": {},
   "outputs": [
    {
     "name": "stdout",
     "output_type": "stream",
     "text": [
      "0 Apple\n",
      "1 Banana\n",
      "2 Mango\n",
      "3 Peach\n",
      "4 Guava\n",
      "5 Pineapple\n"
     ]
    }
   ],
   "source": [
    "fruits = ['Apple','Banana','Mango','Peach','Guava','Pineapple']\n",
    "for items in range(len(fruits)):\n",
    "    print(items,fruits[items])\n",
    "    "
   ]
  },
  {
   "cell_type": "code",
   "execution_count": 44,
   "id": "81214331",
   "metadata": {},
   "outputs": [
    {
     "data": {
      "text/plain": [
       "['Banana', 'Mango', 'Peach', 'Guava']"
      ]
     },
     "execution_count": 44,
     "metadata": {},
     "output_type": "execute_result"
    }
   ],
   "source": [
    "fruits = ['Apple','Banana','Mango','Peach','Guava','Pineapple']\n",
    "fruits[1:5:1]"
   ]
  },
  {
   "cell_type": "code",
   "execution_count": 46,
   "id": "60988fc3",
   "metadata": {},
   "outputs": [
    {
     "name": "stdout",
     "output_type": "stream",
     "text": [
      "0 ['Banana', 'Mango', 'Peach', 'Guava']\n",
      "1 ['Banana', 'Mango', 'Peach', 'Guava']\n",
      "2 ['Banana', 'Mango', 'Peach', 'Guava']\n",
      "3 ['Banana', 'Mango', 'Peach', 'Guava']\n",
      "4 ['Banana', 'Mango', 'Peach', 'Guava']\n",
      "5 ['Banana', 'Mango', 'Peach', 'Guava']\n",
      "6 ['Banana', 'Mango', 'Peach', 'Guava']\n",
      "7 ['Banana', 'Mango', 'Peach', 'Guava']\n",
      "8 ['Banana', 'Mango', 'Peach', 'Guava']\n",
      "9 ['Banana', 'Mango', 'Peach', 'Guava']\n"
     ]
    }
   ],
   "source": [
    "fruits = ['Apple','Banana','Mango','Peach','Guava','Pineapple']\n",
    "for items in range(10):\n",
    "    print(items,fruits[1:5:1])"
   ]
  },
  {
   "cell_type": "code",
   "execution_count": 48,
   "id": "a6b76093",
   "metadata": {},
   "outputs": [
    {
     "name": "stdout",
     "output_type": "stream",
     "text": [
      "0 Banana\n",
      "1 Mango\n",
      "2 Peach\n"
     ]
    }
   ],
   "source": [
    "fruits = ['Apple','Banana','Mango','Peach','Guava','Pineapple']\n",
    "n = fruits[1:4]\n",
    "n\n",
    "for i in range(len(n)):\n",
    "    print(i,n[i])"
   ]
  },
  {
   "cell_type": "code",
   "execution_count": 55,
   "id": "fa4653dc",
   "metadata": {},
   "outputs": [
    {
     "name": "stdout",
     "output_type": "stream",
     "text": [
      "0 maha Cat parxa\n",
      "1 maha Dog parxa\n",
      "2 maha Hen parxa\n",
      "3 maha Horse parxa\n"
     ]
    }
   ],
   "source": [
    "A = ['Cat','Dog','Hen','Horse','Fish']\n",
    "S = A[:4]\n",
    "S\n",
    "for u in range(len(S)):\n",
    "    print(u, 'maha', S[u], 'parxa')"
   ]
  },
  {
   "cell_type": "markdown",
   "id": "94f51242",
   "metadata": {},
   "source": [
    "# List ko function lageyara for loop garnae"
   ]
  },
  {
   "cell_type": "code",
   "execution_count": 57,
   "id": "feaa4bb9",
   "metadata": {},
   "outputs": [
    {
     "name": "stdout",
     "output_type": "stream",
     "text": [
      "[0, 1, 2, 3, 4, 5, 6, 7, 8, 9]\n"
     ]
    }
   ],
   "source": [
    "l = []\n",
    "\n",
    "for i in range(10):\n",
    "    l.append(i)\n",
    "print(l)"
   ]
  },
  {
   "cell_type": "code",
   "execution_count": null,
   "id": "dfc3ae60",
   "metadata": {},
   "outputs": [],
   "source": []
  }
 ],
 "metadata": {
  "kernelspec": {
   "display_name": "Python 3 (ipykernel)",
   "language": "python",
   "name": "python3"
  },
  "language_info": {
   "codemirror_mode": {
    "name": "ipython",
    "version": 3
   },
   "file_extension": ".py",
   "mimetype": "text/x-python",
   "name": "python",
   "nbconvert_exporter": "python",
   "pygments_lexer": "ipython3",
   "version": "3.10.5"
  }
 },
 "nbformat": 4,
 "nbformat_minor": 5
}
