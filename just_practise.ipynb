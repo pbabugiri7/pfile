{
 "cells": [
  {
   "cell_type": "code",
   "execution_count": 1,
   "id": "8414c704",
   "metadata": {},
   "outputs": [
    {
     "name": "stdout",
     "output_type": "stream",
     "text": [
      "101\n",
      "103\n",
      "107\n",
      "109\n",
      "113\n",
      "127\n",
      "131\n",
      "137\n",
      "139\n",
      "149\n",
      "151\n",
      "157\n",
      "163\n",
      "167\n",
      "173\n",
      "179\n",
      "181\n"
     ]
    }
   ],
   "source": [
    "for num in range(100,190):\n",
    "   \n",
    "    for items in range(2,num):\n",
    "        if num % items == 0:\n",
    "            break\n",
    "    else:\n",
    "        print(num)"
   ]
  },
  {
   "cell_type": "markdown",
   "id": "17de8f94",
   "metadata": {},
   "source": [
    "# Zip function & Complex Number\n",
    "* Ananomous function \n",
    "* args and kwargs"
   ]
  },
  {
   "cell_type": "code",
   "execution_count": null,
   "id": "ccc4e3f7",
   "metadata": {},
   "outputs": [],
   "source": []
  }
 ],
 "metadata": {
  "kernelspec": {
   "display_name": "Python 3 (ipykernel)",
   "language": "python",
   "name": "python3"
  },
  "language_info": {
   "codemirror_mode": {
    "name": "ipython",
    "version": 3
   },
   "file_extension": ".py",
   "mimetype": "text/x-python",
   "name": "python",
   "nbconvert_exporter": "python",
   "pygments_lexer": "ipython3",
   "version": "3.10.5"
  }
 },
 "nbformat": 4,
 "nbformat_minor": 5
}
