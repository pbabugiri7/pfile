{
 "cells": [
  {
   "cell_type": "markdown",
   "id": "1ed26305",
   "metadata": {},
   "source": [
    "# Args and Kwargs\n",
    "\n",
    "* Args is argument\n",
    "* kwargs is keyword argument"
   ]
  },
  {
   "cell_type": "code",
   "execution_count": 13,
   "id": "e9328b74",
   "metadata": {},
   "outputs": [],
   "source": [
    "def tot(*args):\n",
    "    print(args)\n",
    "    print(type(args))"
   ]
  },
  {
   "cell_type": "code",
   "execution_count": 14,
   "id": "c6e2fbc4",
   "metadata": {},
   "outputs": [
    {
     "name": "stdout",
     "output_type": "stream",
     "text": [
      "()\n",
      "<class 'tuple'>\n"
     ]
    }
   ],
   "source": [
    "tot()"
   ]
  },
  {
   "cell_type": "code",
   "execution_count": 33,
   "id": "0dd82e0c",
   "metadata": {},
   "outputs": [],
   "source": [
    "def total(*args):\n",
    "    total = 0 #encounder\n",
    "    \n",
    "    for item in args:\n",
    "        total = total + item\n",
    "    print(total)"
   ]
  },
  {
   "cell_type": "code",
   "execution_count": 34,
   "id": "8373ad1c",
   "metadata": {},
   "outputs": [
    {
     "name": "stdout",
     "output_type": "stream",
     "text": [
      "7\n"
     ]
    }
   ],
   "source": [
    "total(1,3,4,5,6,7,32,76,2,72,6)"
   ]
  },
  {
   "cell_type": "code",
   "execution_count": 36,
   "id": "edbe23dd",
   "metadata": {},
   "outputs": [
    {
     "name": "stdout",
     "output_type": "stream",
     "text": [
      "214\n"
     ]
    }
   ],
   "source": [
    "t = (1,3,4,5,6,7,32,76,2,72,6)\n",
    "total = 0\n",
    "\n",
    "for item in t:\n",
    "    total = total + item #1 4 \n",
    "print(total)"
   ]
  },
  {
   "cell_type": "code",
   "execution_count": 44,
   "id": "d48fd91b",
   "metadata": {},
   "outputs": [],
   "source": [
    "def total(*args):\n",
    "    total = 0\n",
    "    for item in args:\n",
    "        total = total + item\n",
    "    print(total)\n",
    "        \n",
    "    "
   ]
  },
  {
   "cell_type": "code",
   "execution_count": 45,
   "id": "a8000fcd",
   "metadata": {},
   "outputs": [
    {
     "name": "stdout",
     "output_type": "stream",
     "text": [
      "10\n"
     ]
    }
   ],
   "source": [
    "total(2,3,5)"
   ]
  },
  {
   "cell_type": "code",
   "execution_count": 41,
   "id": "65a48572",
   "metadata": {},
   "outputs": [
    {
     "name": "stdout",
     "output_type": "stream",
     "text": [
      "14\n"
     ]
    }
   ],
   "source": [
    "args = (1,2,3,5,3)\n",
    "\n",
    "total = 0\n",
    "for item in args:\n",
    "    total = item + total \n",
    "print(total)\n",
    "    "
   ]
  },
  {
   "cell_type": "code",
   "execution_count": 61,
   "id": "e98a636e",
   "metadata": {},
   "outputs": [],
   "source": [
    "def divide(*args):\n",
    "    for items in args:\n",
    "        divide = int(items / 2)\n",
    "        print(divide)"
   ]
  },
  {
   "cell_type": "code",
   "execution_count": 62,
   "id": "bba671a8",
   "metadata": {},
   "outputs": [
    {
     "name": "stdout",
     "output_type": "stream",
     "text": [
      "2\n",
      "3\n",
      "4\n"
     ]
    }
   ],
   "source": [
    "divide(4,6,8)\n"
   ]
  },
  {
   "cell_type": "code",
   "execution_count": 69,
   "id": "3f26faa1",
   "metadata": {},
   "outputs": [],
   "source": [
    "def add(*args):\n",
    "    total = 0\n",
    "    for items in args:\n",
    "        total =total + items\n",
    "    \n",
    "    print(total)"
   ]
  },
  {
   "cell_type": "code",
   "execution_count": 70,
   "id": "b2c1f4fa",
   "metadata": {},
   "outputs": [
    {
     "name": "stdout",
     "output_type": "stream",
     "text": [
      "21\n"
     ]
    }
   ],
   "source": [
    "add(1,2,3,4,5,6)"
   ]
  },
  {
   "cell_type": "code",
   "execution_count": 71,
   "id": "f9fd285b",
   "metadata": {},
   "outputs": [],
   "source": [
    "#To print all the given arguments\n",
    "def multiply(*args):\n",
    "    for item in args:\n",
    "        m = 2 * item\n",
    "        print(m)"
   ]
  },
  {
   "cell_type": "code",
   "execution_count": 72,
   "id": "d9a0ebb0",
   "metadata": {},
   "outputs": [
    {
     "name": "stdout",
     "output_type": "stream",
     "text": [
      "2\n",
      "4\n",
      "6\n",
      "8\n",
      "10\n"
     ]
    }
   ],
   "source": [
    "multiply(1,2,3,4,5)"
   ]
  },
  {
   "cell_type": "code",
   "execution_count": 89,
   "id": "51150dff",
   "metadata": {},
   "outputs": [],
   "source": [
    "# To print only the total \n",
    "def multiple_of_five(*args):\n",
    "    for items in args:\n",
    "        m = 5 * items\n",
    "        print(m)"
   ]
  },
  {
   "cell_type": "code",
   "execution_count": 90,
   "id": "db7ad9f7",
   "metadata": {},
   "outputs": [
    {
     "name": "stdout",
     "output_type": "stream",
     "text": [
      "5\n",
      "10\n",
      "15\n",
      "20\n",
      "25\n",
      "30\n",
      "35\n",
      "40\n",
      "45\n",
      "50\n"
     ]
    }
   ],
   "source": [
    "multiple_of_five(1,2,3,4,5,6,7,8,9,10)"
   ]
  },
  {
   "cell_type": "code",
   "execution_count": 103,
   "id": "0dd07def",
   "metadata": {},
   "outputs": [],
   "source": [
    "def multiple_of_nine(*args):\n",
    "    for items in args:\n",
    "        n = 9 * items\n",
    "        print(n)"
   ]
  },
  {
   "cell_type": "code",
   "execution_count": 95,
   "id": "a98a207b",
   "metadata": {},
   "outputs": [
    {
     "data": {
      "text/plain": [
       "tuple"
      ]
     },
     "execution_count": 95,
     "metadata": {},
     "output_type": "execute_result"
    }
   ],
   "source": [
    "d = (1,2,3,4,5)\n",
    "type(d)"
   ]
  },
  {
   "cell_type": "code",
   "execution_count": 104,
   "id": "20db6ef9",
   "metadata": {},
   "outputs": [
    {
     "name": "stdout",
     "output_type": "stream",
     "text": [
      "9\n",
      "18\n",
      "27\n",
      "36\n",
      "45\n"
     ]
    }
   ],
   "source": [
    "multiple_of_nine(1,2,3,4,5)"
   ]
  },
  {
   "cell_type": "code",
   "execution_count": 106,
   "id": "7e5ba95f",
   "metadata": {},
   "outputs": [
    {
     "name": "stdout",
     "output_type": "stream",
     "text": [
      "(1, 2, 3, 4, 5, 1, 2, 3, 4, 5, 1, 2, 3, 4, 5, 1, 2, 3, 4, 5, 1, 2, 3, 4, 5, 1, 2, 3, 4, 5, 1, 2, 3, 4, 5, 1, 2, 3, 4, 5, 1, 2, 3, 4, 5)\n"
     ]
    }
   ],
   "source": [
    "multiple_of_nine(d)"
   ]
  },
  {
   "cell_type": "code",
   "execution_count": 105,
   "id": "e0654453",
   "metadata": {},
   "outputs": [
    {
     "name": "stdout",
     "output_type": "stream",
     "text": [
      "9\n",
      "18\n",
      "27\n",
      "36\n",
      "45\n"
     ]
    }
   ],
   "source": [
    "multiple_of_nine(1,2,3,4,5)"
   ]
  },
  {
   "cell_type": "markdown",
   "id": "1796cb3e",
   "metadata": {},
   "source": [
    "# Kwargs"
   ]
  },
  {
   "cell_type": "code",
   "execution_count": 2,
   "id": "18fe790d",
   "metadata": {},
   "outputs": [],
   "source": [
    "def bout(**kwargs):\n",
    "    print(kwargs)\n",
    "    print(type(kwargs))"
   ]
  },
  {
   "cell_type": "code",
   "execution_count": 4,
   "id": "9022d273",
   "metadata": {},
   "outputs": [
    {
     "name": "stdout",
     "output_type": "stream",
     "text": [
      "{}\n",
      "<class 'dict'>\n"
     ]
    }
   ],
   "source": [
    "bout()"
   ]
  },
  {
   "cell_type": "code",
   "execution_count": 10,
   "id": "382898f5",
   "metadata": {},
   "outputs": [
    {
     "name": "stdout",
     "output_type": "stream",
     "text": [
      "{'Yogesh': 'Teacher', 'Prajwal': 'Student'}\n",
      "<class 'dict'>\n"
     ]
    }
   ],
   "source": [
    "bout(Yogesh='Teacher', Prajwal='Student')"
   ]
  },
  {
   "cell_type": "code",
   "execution_count": 13,
   "id": "2adde36b",
   "metadata": {},
   "outputs": [],
   "source": [
    "def clause(**kwargs):\n",
    "    for key,value in kwargs.items():\n",
    "        print(f'{key} class maha {value} parxa')\n",
    "    "
   ]
  },
  {
   "cell_type": "code",
   "execution_count": 16,
   "id": "a1670f07",
   "metadata": {},
   "outputs": [
    {
     "name": "stdout",
     "output_type": "stream",
     "text": [
      "Birds class maha Sparrow parxa\n",
      "Fruits class maha Orange parxa\n"
     ]
    }
   ],
   "source": [
    "clause(Birds = 'Sparrow' , Fruits = 'Orange', )"
   ]
  },
  {
   "cell_type": "code",
   "execution_count": 31,
   "id": "026eb2b9",
   "metadata": {},
   "outputs": [],
   "source": [
    "def chatt(**kwargs):\n",
    "    for keys,values in kwargs.items():\n",
    "        print(f'{keys} is {values}')"
   ]
  },
  {
   "cell_type": "code",
   "execution_count": 32,
   "id": "53cb3788",
   "metadata": {},
   "outputs": [
    {
     "name": "stdout",
     "output_type": "stream",
     "text": [
      "Prime_number is 2\n"
     ]
    }
   ],
   "source": [
    "chatt(Prime_number = '2',)"
   ]
  },
  {
   "cell_type": "code",
   "execution_count": 33,
   "id": "561e6e9e",
   "metadata": {},
   "outputs": [],
   "source": [
    "def uuuu(**yogesh):\n",
    "    for prajwal,giri in yogesh.items():\n",
    "        print(f'{giri} belong to {prajwal} group. ')"
   ]
  },
  {
   "cell_type": "code",
   "execution_count": 34,
   "id": "1ed9f717",
   "metadata": {},
   "outputs": [
    {
     "name": "stdout",
     "output_type": "stream",
     "text": [
      "Onion belong to Vegetables group. \n"
     ]
    }
   ],
   "source": [
    "uuuu(Vegetables = 'Onion')"
   ]
  },
  {
   "cell_type": "code",
   "execution_count": 35,
   "id": "034ea151",
   "metadata": {},
   "outputs": [],
   "source": [
    "def yyyy(*args):\n",
    "    for item in args:\n",
    "        if item > 3:\n",
    "            print('Yahoo')\n",
    "        else:\n",
    "            continue"
   ]
  },
  {
   "cell_type": "code",
   "execution_count": 37,
   "id": "6c76d13b",
   "metadata": {},
   "outputs": [
    {
     "name": "stdout",
     "output_type": "stream",
     "text": [
      "Yahoo\n",
      "Yahoo\n",
      "Yahoo\n",
      "Yahoo\n",
      "Yahoo\n"
     ]
    }
   ],
   "source": [
    "yyyy(6,7,4,3,2,8,9)"
   ]
  },
  {
   "cell_type": "code",
   "execution_count": 40,
   "id": "524be98c",
   "metadata": {},
   "outputs": [],
   "source": [
    "class car:\n",
    "    def __init__(self,speed,quality,popular,horse_power):\n",
    "        self.speed = speed\n",
    "        self.quality = quality\n",
    "        self.popular = popular\n",
    "        self.horse_power = horse_power\n",
    "        \n",
    "    def suv77(self):\n",
    "        return self.speed,self.quality\n",
    "    \n",
    "    def skoda44(self):\n",
    "        return self.popular,self.horse_power\n",
    "    "
   ]
  },
  {
   "cell_type": "code",
   "execution_count": 42,
   "id": "306ec716",
   "metadata": {},
   "outputs": [],
   "source": [
    "a = car(speed = '82km/hr', quality = 'best', popular = 'all over the world', horse_power = 'veryhigh')"
   ]
  },
  {
   "cell_type": "code",
   "execution_count": 43,
   "id": "f7caf9eb",
   "metadata": {},
   "outputs": [
    {
     "data": {
      "text/plain": [
       "('all over the world', 'veryhigh')"
      ]
     },
     "execution_count": 43,
     "metadata": {},
     "output_type": "execute_result"
    }
   ],
   "source": [
    "a.skoda44()"
   ]
  },
  {
   "cell_type": "code",
   "execution_count": 44,
   "id": "8640eac2",
   "metadata": {},
   "outputs": [],
   "source": [
    "s,q = a.suv77()"
   ]
  },
  {
   "cell_type": "code",
   "execution_count": 45,
   "id": "9ce0805a",
   "metadata": {},
   "outputs": [],
   "source": [
    "p,h = a.skoda44()"
   ]
  },
  {
   "cell_type": "code",
   "execution_count": 46,
   "id": "51ac7554",
   "metadata": {},
   "outputs": [
    {
     "name": "stdout",
     "output_type": "stream",
     "text": [
      "Suv77 model car have speed of 82km/hr and the car quality is known as the best over the world But Skoda44 car is known all over the world as well as it have veryhigh speed. \n"
     ]
    }
   ],
   "source": [
    "print(f'Suv77 model car have speed of {s} and the car quality is known as the {q} over the world But Skoda44 car is known {p} as well as it have {h} speed. ')"
   ]
  },
  {
   "cell_type": "code",
   "execution_count": null,
   "id": "04d6ea76",
   "metadata": {},
   "outputs": [],
   "source": []
  }
 ],
 "metadata": {
  "kernelspec": {
   "display_name": "Python 3 (ipykernel)",
   "language": "python",
   "name": "python3"
  },
  "language_info": {
   "codemirror_mode": {
    "name": "ipython",
    "version": 3
   },
   "file_extension": ".py",
   "mimetype": "text/x-python",
   "name": "python",
   "nbconvert_exporter": "python",
   "pygments_lexer": "ipython3",
   "version": "3.10.5"
  }
 },
 "nbformat": 4,
 "nbformat_minor": 5
}
