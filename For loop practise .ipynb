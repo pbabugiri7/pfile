{
 "cells": [
  {
   "cell_type": "code",
   "execution_count": 4,
   "id": "92f567a0",
   "metadata": {},
   "outputs": [
    {
     "name": "stdout",
     "output_type": "stream",
     "text": [
      "0\n",
      "1\n",
      "2\n"
     ]
    }
   ],
   "source": [
    "for i in range(5):\n",
    "    if i == 3 :\n",
    "        break\n",
    "    print(i)\n",
    "        "
   ]
  },
  {
   "cell_type": "code",
   "execution_count": 5,
   "id": "45e980e8",
   "metadata": {},
   "outputs": [
    {
     "name": "stdout",
     "output_type": "stream",
     "text": [
      "0\n",
      "1\n",
      "2\n",
      "3\n",
      "4\n",
      "5\n"
     ]
    }
   ],
   "source": [
    "for p in range(10):\n",
    "    if p == 6:\n",
    "        break\n",
    "    print(p)"
   ]
  },
  {
   "cell_type": "code",
   "execution_count": 7,
   "id": "fc91c19b",
   "metadata": {},
   "outputs": [
    {
     "name": "stdout",
     "output_type": "stream",
     "text": [
      "0\n",
      "1\n",
      "2\n",
      "3\n",
      "5\n",
      "6\n"
     ]
    }
   ],
   "source": [
    "for t in range(7):\n",
    "    if t == 4:\n",
    "        continue\n",
    "    print(t)"
   ]
  },
  {
   "cell_type": "code",
   "execution_count": 9,
   "id": "7039b916",
   "metadata": {},
   "outputs": [
    {
     "name": "stdout",
     "output_type": "stream",
     "text": [
      "apple\n",
      "banana\n",
      "guava\n",
      "peach\n",
      "sugarcane\n"
     ]
    }
   ],
   "source": [
    "fruits = ['apple','banana','guava','peach','sugarcane']\n",
    "for i in fruits:\n",
    "    print(i)\n"
   ]
  },
  {
   "cell_type": "code",
   "execution_count": 11,
   "id": "343015ed",
   "metadata": {},
   "outputs": [
    {
     "name": "stdout",
     "output_type": "stream",
     "text": [
      "apple\n",
      "banana\n",
      "guava\n"
     ]
    }
   ],
   "source": [
    "fruits = ['apple','banana','guava','peach','sugarcane']\n",
    "for i in fruits:\n",
    "    if i == 'peach':\n",
    "        break\n",
    "    print(i)\n",
    "\n",
    "\n",
    "\n"
   ]
  },
  {
   "cell_type": "code",
   "execution_count": 26,
   "id": "e0a95f46",
   "metadata": {},
   "outputs": [
    {
     "name": "stdout",
     "output_type": "stream",
     "text": [
      "apple\n",
      "peach\n",
      "sugarcane\n"
     ]
    }
   ],
   "source": [
    "fruits = ['apple','banana','guava','peach','sugarcane']\n",
    "for i in fruits:\n",
    "    if i == 'banana':\n",
    "        continue\n",
    "    elif i == 'guava':\n",
    "        continue\n",
    "    print(i)"
   ]
  },
  {
   "cell_type": "code",
   "execution_count": 32,
   "id": "78abf13f",
   "metadata": {},
   "outputs": [
    {
     "name": "stdout",
     "output_type": "stream",
     "text": [
      "Your given items are:None\n",
      "Your given items are:None\n",
      "Your given items are:None\n"
     ]
    }
   ],
   "source": [
    "friuts = ['orange','apple','guava','pineapple','mango','peach']\n",
    "for items in fruits:\n",
    "    \n",
    "    if items == 'apple':\n",
    "        continue\n",
    "    elif items == 'pineapple':\n",
    "        continue\n",
    "    elif items == 'peach':\n",
    "        continue\n",
    "    it = []\n",
    "    \n",
    "    v = it.append(items)\n",
    "    \n",
    "    print(f'Your given items are:{v}')"
   ]
  },
  {
   "cell_type": "code",
   "execution_count": 13,
   "id": "60c2e77b",
   "metadata": {},
   "outputs": [
    {
     "name": "stdout",
     "output_type": "stream",
     "text": [
      "orange\n",
      "apple\n",
      "pineapple\n"
     ]
    }
   ],
   "source": [
    "fruits = ['orange','apple','guava','pineapple','mango','peach']\n",
    "\n",
    "# output apple, guava pineaplle\n",
    "\n",
    "for items in fruits:\n",
    "    if items == 'guava':\n",
    "        continue\n",
    "    elif items == 'mango':\n",
    "        break\n",
    "    print(items)"
   ]
  },
  {
   "cell_type": "code",
   "execution_count": 15,
   "id": "9ddefdac",
   "metadata": {},
   "outputs": [
    {
     "data": {
      "text/plain": [
       "range(0, 7)"
      ]
     },
     "execution_count": 15,
     "metadata": {},
     "output_type": "execute_result"
    }
   ],
   "source": [
    "range(7)"
   ]
  },
  {
   "cell_type": "code",
   "execution_count": 4,
   "id": "68af396c",
   "metadata": {},
   "outputs": [
    {
     "name": "stdout",
     "output_type": "stream",
     "text": [
      "2\n",
      "3\n",
      "5\n",
      "7\n"
     ]
    }
   ],
   "source": [
    "for num in range(10):\n",
    "    if num > 1:     # \n",
    "\n",
    "        for items in range(2, num):\n",
    "            if num % items == 0:\n",
    "                break\n",
    "        else:        \n",
    "            print(num)\n",
    "            \n",
    "            "
   ]
  },
  {
   "cell_type": "code",
   "execution_count": 3,
   "id": "ec2999db",
   "metadata": {},
   "outputs": [
    {
     "name": "stdout",
     "output_type": "stream",
     "text": [
      "22\n",
      "28\n",
      "30\n",
      "36\n",
      "40\n",
      "42\n",
      "46\n"
     ]
    }
   ],
   "source": [
    "for num in range(20,50):\n",
    "    for items in range(2,num):\n",
    "        if num  % items == 0:\n",
    "            break\n",
    "    else:\n",
    "        print(items)"
   ]
  },
  {
   "cell_type": "code",
   "execution_count": 12,
   "id": "e39c0e74",
   "metadata": {},
   "outputs": [
    {
     "name": "stdout",
     "output_type": "stream",
     "text": [
      "2\n",
      "3\n",
      "5\n",
      "7\n"
     ]
    }
   ],
   "source": [
    "for num in range(0,10):\n",
    "    if num > 1:\n",
    "        \n",
    "        for item in range(2,num):\n",
    "            if num % item == 0:\n",
    "                break\n",
    "        else:\n",
    "            print(num)\n",
    "\n"
   ]
  },
  {
   "cell_type": "code",
   "execution_count": 29,
   "id": "c52e7fa5",
   "metadata": {},
   "outputs": [
    {
     "name": "stdout",
     "output_type": "stream",
     "text": [
      "107\n",
      "109\n",
      "113\n"
     ]
    }
   ],
   "source": [
    "for num in range(105,120):\n",
    "    for items in range(2, num):\n",
    "        if num % items == 0:\n",
    "            break\n",
    "    else:\n",
    "        print(num)"
   ]
  },
  {
   "cell_type": "code",
   "execution_count": 30,
   "id": "f1396f6e",
   "metadata": {},
   "outputs": [
    {
     "name": "stdout",
     "output_type": "stream",
     "text": [
      "0\n",
      "1\n",
      "1\n",
      "2\n",
      "3\n",
      "5\n",
      "8\n",
      "13\n",
      "21\n",
      "34\n"
     ]
    }
   ],
   "source": [
    "num1 = 0   #0,1,1,2,3,5\n",
    "num2 = 1\n",
    "for item in range (10):\n",
    "    print(num1)\n",
    "    result = num1 + num2\n",
    "    num1 = num2\n",
    "    num2 = result"
   ]
  },
  {
   "cell_type": "code",
   "execution_count": 32,
   "id": "b0aa33fb",
   "metadata": {},
   "outputs": [
    {
     "name": "stdout",
     "output_type": "stream",
     "text": [
      "0\n",
      "1\n",
      "1\n",
      "2\n",
      "3\n",
      "5\n",
      "8\n",
      "13\n",
      "21\n"
     ]
    }
   ],
   "source": [
    "num1 = 0\n",
    "num2 = 1\n",
    "for item in range(0,9):\n",
    "    print(num1)\n",
    "    result = num1 + num2\n",
    "    num1 = num2\n",
    "    num2 = result"
   ]
  },
  {
   "cell_type": "markdown",
   "id": "39ce6ea8",
   "metadata": {},
   "source": [
    "# Factorial"
   ]
  },
  {
   "cell_type": "code",
   "execution_count": 15,
   "id": "c47ce3de",
   "metadata": {},
   "outputs": [
    {
     "name": "stdout",
     "output_type": "stream",
     "text": [
      " Factorial of 5 is 120\n"
     ]
    }
   ],
   "source": [
    "num = 5\n",
    "factorial = 1\n",
    "\n",
    "for item in range(1, num+1):\n",
    "    factorial = factorial * item\n",
    "    \n",
    "print(f' Factorial of {num} is {factorial}')"
   ]
  },
  {
   "cell_type": "code",
   "execution_count": null,
   "id": "d370c49b",
   "metadata": {},
   "outputs": [],
   "source": []
  }
 ],
 "metadata": {
  "kernelspec": {
   "display_name": "Python 3 (ipykernel)",
   "language": "python",
   "name": "python3"
  },
  "language_info": {
   "codemirror_mode": {
    "name": "ipython",
    "version": 3
   },
   "file_extension": ".py",
   "mimetype": "text/x-python",
   "name": "python",
   "nbconvert_exporter": "python",
   "pygments_lexer": "ipython3",
   "version": "3.10.5"
  }
 },
 "nbformat": 4,
 "nbformat_minor": 5
}
