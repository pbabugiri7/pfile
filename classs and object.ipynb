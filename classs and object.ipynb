{
 "cells": [
  {
   "cell_type": "code",
   "execution_count": 38,
   "id": "b2a567bd",
   "metadata": {},
   "outputs": [],
   "source": [
    "class prajwal():\n",
    "    skill_details = 'is_learning'\n",
    "    age = 23\n",
    "    gender = 'male'\n",
    "    his_salary = 'twenty thousand'\n",
    "    mobile_number = 986876575"
   ]
  },
  {
   "cell_type": "code",
   "execution_count": 39,
   "id": "c5d6a09b",
   "metadata": {},
   "outputs": [
    {
     "data": {
      "text/plain": [
       "'is_learning'"
      ]
     },
     "execution_count": 39,
     "metadata": {},
     "output_type": "execute_result"
    }
   ],
   "source": [
    "a = prajwal()\n",
    "a.skill_details"
   ]
  },
  {
   "cell_type": "code",
   "execution_count": 40,
   "id": "363fb8af",
   "metadata": {},
   "outputs": [
    {
     "data": {
      "text/plain": [
       "'male'"
      ]
     },
     "execution_count": 40,
     "metadata": {},
     "output_type": "execute_result"
    }
   ],
   "source": [
    "a.gender"
   ]
  },
  {
   "cell_type": "code",
   "execution_count": 41,
   "id": "c550e8f2",
   "metadata": {},
   "outputs": [
    {
     "data": {
      "text/plain": [
       "'twenty thousand'"
      ]
     },
     "execution_count": 41,
     "metadata": {},
     "output_type": "execute_result"
    }
   ],
   "source": [
    "a.his_salary"
   ]
  },
  {
   "cell_type": "code",
   "execution_count": 42,
   "id": "e325a5ce",
   "metadata": {},
   "outputs": [
    {
     "data": {
      "text/plain": [
       "986876575"
      ]
     },
     "execution_count": 42,
     "metadata": {},
     "output_type": "execute_result"
    }
   ],
   "source": [
    "a.mobile_number"
   ]
  },
  {
   "cell_type": "code",
   "execution_count": 44,
   "id": "7da3916a",
   "metadata": {},
   "outputs": [
    {
     "name": "stdout",
     "output_type": "stream",
     "text": [
      "0\n",
      "1\n",
      "1\n",
      "2\n",
      "3\n",
      "5\n",
      "8\n",
      "13\n",
      "21\n",
      "34\n"
     ]
    }
   ],
   "source": [
    "# fibonacci using for\n",
    "\n",
    "num1 = 0\n",
    "num2 = 1\n",
    "for items in range(10):\n",
    "    print(num1)\n",
    "    result = num1 + num2\n",
    "    num1 = num2\n",
    "    num2 = result"
   ]
  },
  {
   "cell_type": "code",
   "execution_count": 47,
   "id": "c07d1d41",
   "metadata": {},
   "outputs": [
    {
     "name": "stdout",
     "output_type": "stream",
     "text": [
      "2\n",
      "3\n",
      "5\n",
      "7\n"
     ]
    }
   ],
   "source": [
    "# prime number between 1 to 10\n",
    "for num in range(10):\n",
    "    if num > 1:\n",
    "            for items in range(2,num):\n",
    "                if num % items == 0:\n",
    "                    break\n",
    "            else:\n",
    "                print(num)\n",
    "                \n",
    "\n",
    "        \n",
    "         "
   ]
  },
  {
   "cell_type": "code",
   "execution_count": 61,
   "id": "6056e3a0",
   "metadata": {},
   "outputs": [
    {
     "name": "stdout",
     "output_type": "stream",
     "text": [
      "120\n"
     ]
    }
   ],
   "source": [
    "# factorization \n",
    "num = 5\n",
    "factorial = 1\n",
    "\n",
    "for item in range(1,num+1):\n",
    "    factorial = factorial * item\n",
    "    \n",
    "print(factorial)"
   ]
  },
  {
   "cell_type": "code",
   "execution_count": 62,
   "id": "a662bfa8",
   "metadata": {},
   "outputs": [
    {
     "name": "stdout",
     "output_type": "stream",
     "text": [
      "362880\n"
     ]
    }
   ],
   "source": [
    "# factorial\n",
    "num = 9\n",
    "factorial = 1\n",
    "\n",
    "for items in range(1,num+1):\n",
    "    factorial = factorial * items\n",
    "    \n",
    "print(factorial)"
   ]
  },
  {
   "cell_type": "code",
   "execution_count": 63,
   "id": "0c9f0ee4",
   "metadata": {},
   "outputs": [
    {
     "name": "stdout",
     "output_type": "stream",
     "text": [
      "0\n",
      "1\n",
      "1\n",
      "2\n",
      "3\n",
      "5\n",
      "8\n",
      "13\n",
      "21\n",
      "34\n"
     ]
    }
   ],
   "source": [
    "# fibonacci\n",
    "num1 = 0\n",
    "num2 = 1\n",
    "\n",
    "for item in range(10):\n",
    "    print(num1)\n",
    "    result = num1 + num2\n",
    "    num1 = num2\n",
    "    num2 = result"
   ]
  },
  {
   "cell_type": "code",
   "execution_count": 2,
   "id": "4699acc0",
   "metadata": {},
   "outputs": [
    {
     "name": "stdout",
     "output_type": "stream",
     "text": [
      "2\n",
      "3\n",
      "5\n",
      "7\n",
      "11\n",
      "13\n"
     ]
    }
   ],
   "source": [
    "# prime number\n",
    "for num in range(15):\n",
    "    if num > 1:\n",
    "        for items in range(2,num):\n",
    "            if num % items == 0:\n",
    "                break\n",
    "        else:\n",
    "            print(num)\n",
    "                "
   ]
  },
  {
   "cell_type": "markdown",
   "id": "c73635b8",
   "metadata": {},
   "source": [
    "# class"
   ]
  },
  {
   "cell_type": "code",
   "execution_count": 1,
   "id": "4f0af00b",
   "metadata": {},
   "outputs": [],
   "source": [
    "class Birds:\n",
    "    have_wings = 'yes'\n",
    "    can_fly = True\n",
    "    have_beak = True\n",
    "    \n",
    "    "
   ]
  },
  {
   "cell_type": "code",
   "execution_count": 2,
   "id": "05b6db82",
   "metadata": {},
   "outputs": [],
   "source": [
    "b = Birds()"
   ]
  },
  {
   "cell_type": "code",
   "execution_count": 3,
   "id": "83a8df7d",
   "metadata": {},
   "outputs": [
    {
     "data": {
      "text/plain": [
       "'yes'"
      ]
     },
     "execution_count": 3,
     "metadata": {},
     "output_type": "execute_result"
    }
   ],
   "source": [
    "b.have_wings"
   ]
  },
  {
   "cell_type": "code",
   "execution_count": 4,
   "id": "f1446564",
   "metadata": {},
   "outputs": [
    {
     "data": {
      "text/plain": [
       "True"
      ]
     },
     "execution_count": 4,
     "metadata": {},
     "output_type": "execute_result"
    }
   ],
   "source": [
    "b.have_beak"
   ]
  },
  {
   "cell_type": "code",
   "execution_count": 5,
   "id": "b0e61b08",
   "metadata": {},
   "outputs": [
    {
     "data": {
      "text/plain": [
       "True"
      ]
     },
     "execution_count": 5,
     "metadata": {},
     "output_type": "execute_result"
    }
   ],
   "source": [
    "b.can_fly"
   ]
  },
  {
   "cell_type": "code",
   "execution_count": 9,
   "id": "d003cee6",
   "metadata": {},
   "outputs": [],
   "source": [
    "class breathing_being:\n",
    "    has_legs = True\n",
    "    def __init__(self, legs, mammal, wings, hair, give_babies):\n",
    "        self.has_legs = legs\n",
    "        self.has_mammal = mammal\n",
    "        self.ok_wings = wings\n",
    "        self.has_hair = hair\n",
    "        self.give_babies = give_babies\n",
    "        \n",
    "    def birds(self):\n",
    "        return self.ok_wings, self.has_hair\n",
    "    \n",
    "    def animal(self):\n",
    "        return self.has_legs, self.has_mammal,self.has_hair ,self.give_babies\n",
    "        "
   ]
  },
  {
   "cell_type": "code",
   "execution_count": 11,
   "id": "ff371a3f",
   "metadata": {},
   "outputs": [],
   "source": [
    "b = breathing_being(legs = 4, mammal = True, wings = 2, hair = 'OK', give_babies = True)"
   ]
  },
  {
   "cell_type": "code",
   "execution_count": 13,
   "id": "4246aef0",
   "metadata": {},
   "outputs": [
    {
     "name": "stdout",
     "output_type": "stream",
     "text": [
      "BIrd has 2 wings and OK hair.\n"
     ]
    }
   ],
   "source": [
    "wings , hair = b.birds()\n",
    "print(f'BIrd has {wings} wings and {hair} hair.')"
   ]
  },
  {
   "cell_type": "code",
   "execution_count": 14,
   "id": "cba6de49",
   "metadata": {},
   "outputs": [],
   "source": [
    "class water_animal:\n",
    "    def __init__(self,swim,live_in_water,get_prey,produce_babies):\n",
    "        self.swim = swim\n",
    "        self.live = live_in_water\n",
    "        self.prey = get_prey\n",
    "        self.babies = produce_babies\n",
    "        \n",
    "    def fish(self):\n",
    "        return self.swim, self.live, self.prey\n",
    "    def dolphin(self):\n",
    "        return self.swim, self.live, self.prey, self.babies\n",
    "    \n",
    "        \n"
   ]
  },
  {
   "cell_type": "code",
   "execution_count": 17,
   "id": "7a1d6bf9",
   "metadata": {},
   "outputs": [],
   "source": [
    "b = water_animal(swim = 'yes',live_in_water = True, get_prey = 'Yes', produce_babies = True)"
   ]
  },
  {
   "cell_type": "code",
   "execution_count": 18,
   "id": "632ab0d6",
   "metadata": {},
   "outputs": [
    {
     "data": {
      "text/plain": [
       "('yes', True, 'Yes')"
      ]
     },
     "execution_count": 18,
     "metadata": {},
     "output_type": "execute_result"
    }
   ],
   "source": [
    "b.fish()"
   ]
  },
  {
   "cell_type": "code",
   "execution_count": 19,
   "id": "6503cb28",
   "metadata": {},
   "outputs": [],
   "source": [
    "s, l,p = b.fish() "
   ]
  },
  {
   "cell_type": "code",
   "execution_count": 20,
   "id": "ef0a1584",
   "metadata": {},
   "outputs": [
    {
     "data": {
      "text/plain": [
       "'yes'"
      ]
     },
     "execution_count": 20,
     "metadata": {},
     "output_type": "execute_result"
    }
   ],
   "source": [
    "s"
   ]
  },
  {
   "cell_type": "code",
   "execution_count": 21,
   "id": "6a075ce1",
   "metadata": {},
   "outputs": [
    {
     "data": {
      "text/plain": [
       "'Yes'"
      ]
     },
     "execution_count": 21,
     "metadata": {},
     "output_type": "execute_result"
    }
   ],
   "source": [
    "p"
   ]
  },
  {
   "cell_type": "code",
   "execution_count": 22,
   "id": "3a22301c",
   "metadata": {},
   "outputs": [
    {
     "data": {
      "text/plain": [
       "True"
      ]
     },
     "execution_count": 22,
     "metadata": {},
     "output_type": "execute_result"
    }
   ],
   "source": [
    "l"
   ]
  },
  {
   "cell_type": "code",
   "execution_count": 25,
   "id": "c9080e16",
   "metadata": {},
   "outputs": [
    {
     "name": "stdout",
     "output_type": "stream",
     "text": [
      "Fish can swim yes and live in water is True and can get prey  Yes\n"
     ]
    }
   ],
   "source": [
    "print(f'Fish can swim {s} and live in water is {l} and can get prey  {p}')"
   ]
  },
  {
   "cell_type": "code",
   "execution_count": 19,
   "id": "c7a9d683",
   "metadata": {},
   "outputs": [],
   "source": [
    "class animal:\n",
    "    def __init__(self,breath,produce,prey,mammals,fur,eat):\n",
    "        self.breath = breath\n",
    "        self.produce = produce   #Object attributes\n",
    "        self.prey = prey\n",
    "        self.mammals = mammals\n",
    "        self.fur = fur\n",
    "        self.eat = eat\n",
    "    \n",
    "    def lion(self):\n",
    "        return self.breath, self.produce,self.prey\n",
    "    def elephant(self):\n",
    "        return self.produce, self.mammals, self.eat\n",
    "    \n",
    "    "
   ]
  },
  {
   "cell_type": "code",
   "execution_count": 16,
   "id": "53179dae",
   "metadata": {},
   "outputs": [],
   "source": [
    "a = animal(breath = 'Jungle', produce = 'babies', prey= 'kill', mammals = 'group', fur = 'contain', eat = 'grass')"
   ]
  },
  {
   "cell_type": "code",
   "execution_count": 17,
   "id": "14a878cc",
   "metadata": {},
   "outputs": [
    {
     "data": {
      "text/plain": [
       "'can'"
      ]
     },
     "execution_count": 17,
     "metadata": {},
     "output_type": "execute_result"
    }
   ],
   "source": [
    "b,p,pr = a.lion()\n",
    "b"
   ]
  },
  {
   "cell_type": "code",
   "execution_count": 36,
   "id": "cd076265",
   "metadata": {},
   "outputs": [
    {
     "data": {
      "text/plain": [
       "'kill'"
      ]
     },
     "execution_count": 36,
     "metadata": {},
     "output_type": "execute_result"
    }
   ],
   "source": [
    "pr"
   ]
  },
  {
   "cell_type": "code",
   "execution_count": 39,
   "id": "8ef6be8f",
   "metadata": {},
   "outputs": [
    {
     "name": "stdout",
     "output_type": "stream",
     "text": [
      "Lion Yes breath and can produce Babies as well as kill prey \n"
     ]
    }
   ],
   "source": [
    "print(f'Lion {b} breath and can produce {p} as well as {pr} prey ')"
   ]
  },
  {
   "cell_type": "code",
   "execution_count": 49,
   "id": "932a0794",
   "metadata": {},
   "outputs": [],
   "source": [
    " class car():\n",
    "        def __init__(self,easy_road,mountain_road,speed,horse_power):\n",
    "            self.easy_road = 'yes'\n",
    "            self.mountain_road = 'yes'\n",
    "            self.speed = 'acc_to_modelcap'\n",
    "            self.horse_power = 'acc_to_price'\n",
    "            \n",
    "        def Subaru_Outback(self):\n",
    "            return self.mountain_road,self.horse_power\n",
    "        def k5(self):\n",
    "            return self.easy_road,self.speed\n",
    "        \n",
    "                \n",
    "        \n",
    "        "
   ]
  },
  {
   "cell_type": "code",
   "execution_count": 50,
   "id": "4714ba3f",
   "metadata": {},
   "outputs": [],
   "source": [
    "c = car(easy_road = 'go fast',mountain_road = 'go high easily', speed = 'good', horse_power = 'greater')"
   ]
  },
  {
   "cell_type": "code",
   "execution_count": 58,
   "id": "96ad7f57",
   "metadata": {},
   "outputs": [
    {
     "data": {
      "text/plain": [
       "('yes', 'acc_to_modelcap')"
      ]
     },
     "execution_count": 58,
     "metadata": {},
     "output_type": "execute_result"
    }
   ],
   "source": [
    "c.k5()"
   ]
  },
  {
   "cell_type": "code",
   "execution_count": null,
   "id": "162f1e4d",
   "metadata": {},
   "outputs": [],
   "source": []
  },
  {
   "cell_type": "code",
   "execution_count": null,
   "id": "c7e5a6e5",
   "metadata": {},
   "outputs": [],
   "source": []
  },
  {
   "cell_type": "code",
   "execution_count": 51,
   "id": "bfada4ca",
   "metadata": {},
   "outputs": [
    {
     "data": {
      "text/plain": [
       "('yes', 'acc_to_price')"
      ]
     },
     "execution_count": 51,
     "metadata": {},
     "output_type": "execute_result"
    }
   ],
   "source": [
    "c.Subaru_Outback()"
   ]
  },
  {
   "cell_type": "code",
   "execution_count": 52,
   "id": "72d1d9cf",
   "metadata": {},
   "outputs": [
    {
     "data": {
      "text/plain": [
       "('yes', 'acc_to_modelcap')"
      ]
     },
     "execution_count": 52,
     "metadata": {},
     "output_type": "execute_result"
    }
   ],
   "source": [
    "c.k5()"
   ]
  },
  {
   "cell_type": "code",
   "execution_count": 53,
   "id": "d4d6907a",
   "metadata": {},
   "outputs": [],
   "source": [
    "m,h = c.Subaru_Outback()"
   ]
  },
  {
   "cell_type": "code",
   "execution_count": 54,
   "id": "7d6b70b3",
   "metadata": {},
   "outputs": [
    {
     "data": {
      "text/plain": [
       "'yes'"
      ]
     },
     "execution_count": 54,
     "metadata": {},
     "output_type": "execute_result"
    }
   ],
   "source": [
    "m"
   ]
  },
  {
   "cell_type": "code",
   "execution_count": 55,
   "id": "c50dae6a",
   "metadata": {},
   "outputs": [
    {
     "data": {
      "text/plain": [
       "'acc_to_price'"
      ]
     },
     "execution_count": 55,
     "metadata": {},
     "output_type": "execute_result"
    }
   ],
   "source": [
    "h"
   ]
  },
  {
   "cell_type": "code",
   "execution_count": 57,
   "id": "43391907",
   "metadata": {},
   "outputs": [
    {
     "name": "stdout",
     "output_type": "stream",
     "text": [
      "Subaru Outback can go to mountain road : yes and horse power of this car model will be acc_to_price\n"
     ]
    }
   ],
   "source": [
    "print(f'Subaru Outback can go to mountain road : {m} and horse power of this car model will be {h}')"
   ]
  },
  {
   "cell_type": "code",
   "execution_count": 4,
   "id": "e5807109",
   "metadata": {},
   "outputs": [],
   "source": [
    "# volume of sphere = (4/3) * pi * r**3\n",
    "\n",
    "class Sphere:\n",
    "    def __init__(self, pi, r):\n",
    "        self.pi = pi\n",
    "        self.r = r\n",
    "        \n",
    "    def volume(self):\n",
    "        return (4/3) * self.pi * self.r**3\n",
    "    \n"
   ]
  },
  {
   "cell_type": "code",
   "execution_count": 5,
   "id": "a4d87a90",
   "metadata": {},
   "outputs": [],
   "source": [
    "b = Sphere(pi = 3.14, r= 7)"
   ]
  },
  {
   "cell_type": "code",
   "execution_count": 6,
   "id": "2e41a104",
   "metadata": {},
   "outputs": [
    {
     "data": {
      "text/plain": [
       "1436.0266666666666"
      ]
     },
     "execution_count": 6,
     "metadata": {},
     "output_type": "execute_result"
    }
   ],
   "source": [
    "b.volume()"
   ]
  },
  {
   "cell_type": "code",
   "execution_count": 23,
   "id": "2e28c109",
   "metadata": {},
   "outputs": [],
   "source": [
    "import math\n",
    "class Sphere:\n",
    "    \n",
    "    def __init__(prajwal, pi, r):\n",
    "        prajwal.pi = pi\n",
    "        prajwal.r = r\n",
    "    \n",
    "    def volume(prajwal):\n",
    "        return (4/3) * prajwal.pi * prajwal.r**3\n",
    "    "
   ]
  },
  {
   "cell_type": "code",
   "execution_count": 25,
   "id": "8a3caab8",
   "metadata": {},
   "outputs": [],
   "source": [
    "a = Sphere(3.14, 5)"
   ]
  },
  {
   "cell_type": "code",
   "execution_count": 27,
   "id": "971004ab",
   "metadata": {},
   "outputs": [
    {
     "data": {
      "text/plain": [
       "523.3333333333334"
      ]
     },
     "execution_count": 27,
     "metadata": {},
     "output_type": "execute_result"
    }
   ],
   "source": [
    "a.volume()"
   ]
  },
  {
   "cell_type": "code",
   "execution_count": 51,
   "id": "9262c19c",
   "metadata": {},
   "outputs": [],
   "source": [
    "class Computer:\n",
    "    has_earphone = True\n",
    "    def __init__(self,cpu,mouse):\n",
    "        self.cpu = cpu\n",
    "        self.mouse = mouse\n",
    "    \n",
    "        \n",
    "class Mobile:\n",
    "    def __init__(self,flash, chip):\n",
    "        self.flash = flash\n",
    "        self.chip = chip\n",
    "        \n",
    "    def feature(self):\n",
    "        return self.flash, self.chip"
   ]
  },
  {
   "cell_type": "code",
   "execution_count": 52,
   "id": "e93f308a",
   "metadata": {},
   "outputs": [],
   "source": [
    "c = Computer('Hunxa', 'Ok')"
   ]
  },
  {
   "cell_type": "code",
   "execution_count": 53,
   "id": "327a7365",
   "metadata": {},
   "outputs": [
    {
     "data": {
      "text/plain": [
       "True"
      ]
     },
     "execution_count": 53,
     "metadata": {},
     "output_type": "execute_result"
    }
   ],
   "source": [
    "c.has_earphone"
   ]
  },
  {
   "cell_type": "code",
   "execution_count": 38,
   "id": "7e7d10f1",
   "metadata": {},
   "outputs": [
    {
     "data": {
      "text/plain": [
       "'Ok'"
      ]
     },
     "execution_count": 38,
     "metadata": {},
     "output_type": "execute_result"
    }
   ],
   "source": [
    "c.has_mouse()"
   ]
  },
  {
   "cell_type": "code",
   "execution_count": 54,
   "id": "9cc4d588",
   "metadata": {},
   "outputs": [],
   "source": [
    "class Computer:\n",
    "    has_earphone = True\n",
    "    def __init__(self,cpu,mouse):\n",
    "        self.cpu = cpu\n",
    "        self.mouse = mouse\n",
    "    \n",
    "        \n",
    "class Mobile:\n",
    "    def __init__(self,flash, chip):\n",
    "        self.flash = flash\n",
    "        self.chip = chip\n",
    "        \n",
    "    def feature(self):\n",
    "        return self.flash, self.chip"
   ]
  },
  {
   "cell_type": "code",
   "execution_count": 56,
   "id": "b9c3c891",
   "metadata": {},
   "outputs": [],
   "source": [
    "c = Computer('HUnxa','ok')"
   ]
  },
  {
   "cell_type": "code",
   "execution_count": 57,
   "id": "ffb066a2",
   "metadata": {},
   "outputs": [],
   "source": [
    "c = Mobile('Yes, it has', 'Apple Bionic')"
   ]
  },
  {
   "cell_type": "code",
   "execution_count": 58,
   "id": "b076f567",
   "metadata": {},
   "outputs": [
    {
     "data": {
      "text/plain": [
       "('Yes, it has', 'Apple Bionic')"
      ]
     },
     "execution_count": 58,
     "metadata": {},
     "output_type": "execute_result"
    }
   ],
   "source": [
    "c.feature()"
   ]
  },
  {
   "cell_type": "code",
   "execution_count": 63,
   "id": "cd9d7f23",
   "metadata": {},
   "outputs": [],
   "source": [
    "class Computer:\n",
    "    has_earphone = True\n",
    "    def __init__(self,cpu,mouse):\n",
    "        self.cpu = cpu\n",
    "        self.mouse = mouse\n",
    "        \n",
    "        \n",
    "    \n",
    "        \n",
    "class Mobile(Computer):\n",
    "    def __init__(self,flash, chip, cpu, mouse):\n",
    "        self.flash = flash\n",
    "        self.chip = chip\n",
    "        \n",
    "        super().__init__(cpu, mouse)\n",
    "        \n",
    "    def feature(self):\n",
    "        return self.flash, self.chip\n",
    "    \n",
    "    def comp_feat_kk_ho(self):\n",
    "        return self.cpu, self.mouse\n",
    "    \n",
    "class Smartphone(Mobile):\n",
    "    \n",
    "        \n",
    "    \n",
    "    "
   ]
  },
  {
   "cell_type": "code",
   "execution_count": 66,
   "id": "7557b833",
   "metadata": {},
   "outputs": [],
   "source": [
    "c = Mobile(flash = 'Has flash', chip = 'Anroid', cpu = 'Hunxa', mouse = 'OK')"
   ]
  },
  {
   "cell_type": "code",
   "execution_count": 62,
   "id": "9e4bba44",
   "metadata": {},
   "outputs": [
    {
     "data": {
      "text/plain": [
       "('Hunxa', 'OK')"
      ]
     },
     "execution_count": 62,
     "metadata": {},
     "output_type": "execute_result"
    }
   ],
   "source": [
    "m.com_feature()"
   ]
  },
  {
   "cell_type": "code",
   "execution_count": 77,
   "id": "922462c1",
   "metadata": {},
   "outputs": [
    {
     "name": "stdout",
     "output_type": "stream",
     "text": [
      "Enter a ram: 5\n",
      "Enter a storage: 7\n",
      "Enter a chip: ANd\n"
     ]
    }
   ],
   "source": [
    "class Computer:\n",
    "    def __init__(self,ram,storage,cpu):\n",
    "        self.ram = ram\n",
    "        self.stogage = storage\n",
    "        self.cpu = cpu\n",
    "        \n",
    "class Mobile:\n",
    "    def __init__(self,mram,mstorage,chip):\n",
    "        self.mram = mram\n",
    "        self.mstorage = mstorage\n",
    "        self.chip = chip\n",
    "        \n",
    "    def mobile_feature(self):\n",
    "        return self.mram, self.mstorage,self.chip\n",
    "    \n",
    "   "
   ]
  },
  {
   "cell_type": "code",
   "execution_count": 78,
   "id": "34f07791",
   "metadata": {},
   "outputs": [],
   "source": [
    "ram = int(input('Enter a ram: '))\n",
    "storage = int(input('Enter a storage: '))\n",
    "chp = input('Enter a chip: ') \n",
    "\n",
    "a = Mobile(mram = ram , mstorage = storage, chip = chp)"
   ]
  },
  {
   "cell_type": "code",
   "execution_count": 79,
   "id": "a5d1f98f",
   "metadata": {},
   "outputs": [],
   "source": [
    "r,s,c = a.mobile_feature()"
   ]
  },
  {
   "cell_type": "code",
   "execution_count": 80,
   "id": "a59e51f6",
   "metadata": {},
   "outputs": [
    {
     "name": "stdout",
     "output_type": "stream",
     "text": [
      "Samsung smartphone contain ANd chip having storage of 7 and ram of 5gb\n"
     ]
    }
   ],
   "source": [
    "print(f'Samsung smartphone contain {c} chip having storage of {s} and ram of {r}gb')"
   ]
  },
  {
   "cell_type": "code",
   "execution_count": 40,
   "id": "1fcb2b8f",
   "metadata": {},
   "outputs": [],
   "source": [
    "class Computer:\n",
    "    def __init__(self,cpu,mouse,keyboard,printer):\n",
    "        self.cpu = cpu\n",
    "        self.mouse = mouse\n",
    "        self.keyboard = keyboard\n",
    "        self.printer = printer\n",
    "        \n",
    "    \n",
    "        \n",
    "class Mobile_phone(Computer):\n",
    "    def __init__(self,ram,storage,chip,cpu,mouse,keyboard,printer):\n",
    "        self.ram = ram\n",
    "        self.storage = storage\n",
    "        self.chip = chip\n",
    "        \n",
    "        super().__init__(cpu,mouse,keyboard,printer)\n",
    "        \n",
    "    def check_ram(self):\n",
    "        return self.ram\n",
    "    \n",
    "    def check_storage(self):\n",
    "        return self.storage\n",
    "    \n",
    "    def check_chip(self):\n",
    "        return self.chip\n",
    "    \n",
    "    def computer_feature(self):\n",
    "        return self.cpu, self.mouse, self.keyboard, self.printer\n",
    "    \n",
    "   \n",
    "    \n",
    "    "
   ]
  },
  {
   "cell_type": "code",
   "execution_count": 36,
   "id": "ed488c67",
   "metadata": {},
   "outputs": [
    {
     "name": "stdout",
     "output_type": "stream",
     "text": [
      "Enter a RAM of your device:53\n",
      "Enter your device storage:245\n",
      "Enter your chip detail:gss\n",
      "Is your cpu working well:gs\n",
      "Do you use mouse ?gs\n",
      "Do yo have keyboard:sh\n",
      "Which company printer do you prefer:s\n"
     ]
    }
   ],
   "source": [
    "ram = int(input('Enter a RAM of your device:'))\n",
    "storage = int(input('Enter your device storage:'))\n",
    "chip = input('Enter your chip detail:')\n",
    "cpu = input('Is your cpu working well:')\n",
    "mouse = input('Do you use mouse ?')\n",
    "keyboard = input('Do yo have keyboard:')\n",
    "printer = input ('Which company printer do you prefer:')"
   ]
  },
  {
   "cell_type": "code",
   "execution_count": 41,
   "id": "9c8d2d91",
   "metadata": {},
   "outputs": [],
   "source": [
    "a = Mobile_phone(ram = ram, storage = storage, chip = chip, cpu = cpu, mouse = mouse, keyboard = keyboard, printer = printer)"
   ]
  },
  {
   "cell_type": "code",
   "execution_count": 42,
   "id": "cf9be206",
   "metadata": {},
   "outputs": [
    {
     "data": {
      "text/plain": [
       "245"
      ]
     },
     "execution_count": 42,
     "metadata": {},
     "output_type": "execute_result"
    }
   ],
   "source": [
    "a.check_storage()"
   ]
  },
  {
   "cell_type": "markdown",
   "id": "ccca5e58",
   "metadata": {},
   "source": [
    "# args and kwargs"
   ]
  },
  {
   "cell_type": "code",
   "execution_count": 2,
   "id": "b00b0d8d",
   "metadata": {},
   "outputs": [],
   "source": [
    "def deer(*args):\n",
    "    for items in args:\n",
    "        if items > 5:\n",
    "            print(items)\n",
    "        else:\n",
    "            continue\n",
    "        \n",
    "    "
   ]
  },
  {
   "cell_type": "code",
   "execution_count": 3,
   "id": "1e9caf25",
   "metadata": {},
   "outputs": [
    {
     "name": "stdout",
     "output_type": "stream",
     "text": [
      "78\n"
     ]
    }
   ],
   "source": [
    "deer(1,4,2,78)"
   ]
  },
  {
   "cell_type": "code",
   "execution_count": 13,
   "id": "da2a12b6",
   "metadata": {},
   "outputs": [],
   "source": [
    "def animal(*kwargs):\n",
    "    for item in kwargs:\n",
    "        print(item)\n",
    "        \n",
    "            "
   ]
  },
  {
   "cell_type": "code",
   "execution_count": 20,
   "id": "74c383a1",
   "metadata": {},
   "outputs": [
    {
     "name": "stdout",
     "output_type": "stream",
     "text": [
      "{'bird': 'sparrow', 'fruits': 'orange'}\n"
     ]
    }
   ],
   "source": [
    "animal({'bird':'sparrow','fruits' : 'orange'})\n"
   ]
  },
  {
   "cell_type": "code",
   "execution_count": null,
   "id": "83820339",
   "metadata": {},
   "outputs": [],
   "source": []
  },
  {
   "cell_type": "code",
   "execution_count": null,
   "id": "d4f989b6",
   "metadata": {},
   "outputs": [],
   "source": []
  }
 ],
 "metadata": {
  "kernelspec": {
   "display_name": "Python 3 (ipykernel)",
   "language": "python",
   "name": "python3"
  },
  "language_info": {
   "codemirror_mode": {
    "name": "ipython",
    "version": 3
   },
   "file_extension": ".py",
   "mimetype": "text/x-python",
   "name": "python",
   "nbconvert_exporter": "python",
   "pygments_lexer": "ipython3",
   "version": "3.10.5"
  }
 },
 "nbformat": 4,
 "nbformat_minor": 5
}
