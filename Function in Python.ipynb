{
 "cells": [
  {
   "cell_type": "code",
   "execution_count": 1,
   "id": "4ec86a40",
   "metadata": {},
   "outputs": [],
   "source": [
    "def Employee_details(name,gender,age,email):\n",
    "    return name,gender,age,email\n",
    "\n"
   ]
  },
  {
   "cell_type": "code",
   "execution_count": 2,
   "id": "43caf647",
   "metadata": {},
   "outputs": [
    {
     "data": {
      "text/plain": [
       "('Yogu', 'Male', 22, 'yogu@gmail.com')"
      ]
     },
     "execution_count": 2,
     "metadata": {},
     "output_type": "execute_result"
    }
   ],
   "source": [
    "Employee_details('Yogu','Male',22,'yogu@gmail.com')"
   ]
  },
  {
   "cell_type": "code",
   "execution_count": 6,
   "id": "e0b37a78",
   "metadata": {},
   "outputs": [
    {
     "ename": "NameError",
     "evalue": "name 'gender' is not defined",
     "output_type": "error",
     "traceback": [
      "\u001b[1;31m---------------------------------------------------------------------------\u001b[0m",
      "\u001b[1;31mNameError\u001b[0m                                 Traceback (most recent call last)",
      "Cell \u001b[1;32mIn[6], line 1\u001b[0m\n\u001b[1;32m----> 1\u001b[0m \u001b[43mgender\u001b[49m\n",
      "\u001b[1;31mNameError\u001b[0m: name 'gender' is not defined"
     ]
    }
   ],
   "source": []
  },
  {
   "cell_type": "code",
   "execution_count": 15,
   "id": "caf8aa6b",
   "metadata": {},
   "outputs": [],
   "source": [
    "def dkfj(a,b):\n",
    "    return a*b,a+b"
   ]
  },
  {
   "cell_type": "code",
   "execution_count": 17,
   "id": "92226934",
   "metadata": {},
   "outputs": [
    {
     "data": {
      "text/plain": [
       "(12, 7)"
      ]
     },
     "execution_count": 17,
     "metadata": {},
     "output_type": "execute_result"
    }
   ],
   "source": [
    "dkfj(a = 3 , b = 4 )"
   ]
  },
  {
   "cell_type": "code",
   "execution_count": 18,
   "id": "e993a477",
   "metadata": {},
   "outputs": [],
   "source": [
    "def Employee_details(name,age,gender,email):\n",
    "    return name,age,gender,email"
   ]
  },
  {
   "cell_type": "code",
   "execution_count": 32,
   "id": "177008ce",
   "metadata": {},
   "outputs": [
    {
     "name": "stdout",
     "output_type": "stream",
     "text": [
      "Enter the employee name:Aaaaa\n",
      "Enter the employee age:33\n",
      "Enter the employee genderknjkn\n",
      "Enter the employee emailUYGHJYGI\n",
      "--------------------------------------------------------\n",
      "Employee name Aaaaa have worked here. His details are:Age: 33 Gender: knjkn Email: UYGHJYGI\n"
     ]
    }
   ],
   "source": [
    "name = input('Enter the employee name:')\n",
    "age = int(input('Enter the employee age:'))\n",
    "gender = input('Enter the employee gender')\n",
    "email = input('Enter the employee email')\n",
    "\n",
    "print('--------------------------------------------------------')\n",
    "\n",
    "name_of_employee , age_of_employee , gender_of_employee , email_of_employee = Employee_details(name , age , gender , email)\n",
    "print('Employee name' ,name_of_employee,'have worked here. His details are:'\n",
    "       'Age:' , age_of_employee ,\n",
    "      'Gender:',gender_of_employee,\n",
    "      'Email:',email_of_employee)\n"
   ]
  },
  {
   "cell_type": "code",
   "execution_count": 20,
   "id": "001ee546",
   "metadata": {},
   "outputs": [
    {
     "data": {
      "text/plain": [
       "'Prajwal'"
      ]
     },
     "execution_count": 20,
     "metadata": {},
     "output_type": "execute_result"
    }
   ],
   "source": [
    "name_of_employee"
   ]
  },
  {
   "cell_type": "code",
   "execution_count": 33,
   "id": "01075ede",
   "metadata": {},
   "outputs": [
    {
     "data": {
      "text/plain": [
       "'UYGHJYGI'"
      ]
     },
     "execution_count": 33,
     "metadata": {},
     "output_type": "execute_result"
    }
   ],
   "source": [
    "email_of_employee"
   ]
  },
  {
   "cell_type": "code",
   "execution_count": 48,
   "id": "262edf41",
   "metadata": {},
   "outputs": [],
   "source": [
    "def work(location,father,mother,relationship,contact):\n",
    "    return location,father,mother,relationship,contact\n"
   ]
  },
  {
   "cell_type": "code",
   "execution_count": 50,
   "id": "21b9db87",
   "metadata": {},
   "outputs": [
    {
     "name": "stdout",
     "output_type": "stream",
     "text": [
      "Enter the location details:hgsfhsd\n",
      "Enter the father name:shhs\n",
      "Enter the mother name:sh\n",
      "Enter the relationship status:shs\n",
      "Enter the contact deails:5362\n",
      "I live in Kathmandu my father name is Prajwal my mother name isSita my relationship status isUnmarried you can call me in 9816047587\n"
     ]
    }
   ],
   "source": [
    "location1 = input('Enter the location details:')\n",
    "father1 = input('Enter the father name:')\n",
    "mother1 = input('Enter the mother name:')\n",
    "relationship1 = input('Enter the relationship status:')\n",
    "contact1 = int(input('Enter the contact deails:'))\n",
    "\n",
    "location_name ,father_name , mother_name , relationship_status , contact_number = work(location,father,mother,relationship,contact)\n",
    "print(f'I live in {location} my father name is {father} my mother name is{mother} my relationship status is{relationship} you can call me in {contact}')"
   ]
  },
  {
   "cell_type": "code",
   "execution_count": null,
   "id": "cc6f6a46",
   "metadata": {},
   "outputs": [],
   "source": []
  }
 ],
 "metadata": {
  "kernelspec": {
   "display_name": "Python 3 (ipykernel)",
   "language": "python",
   "name": "python3"
  },
  "language_info": {
   "codemirror_mode": {
    "name": "ipython",
    "version": 3
   },
   "file_extension": ".py",
   "mimetype": "text/x-python",
   "name": "python",
   "nbconvert_exporter": "python",
   "pygments_lexer": "ipython3",
   "version": "3.10.5"
  }
 },
 "nbformat": 4,
 "nbformat_minor": 5
}
