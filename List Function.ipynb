{
 "cells": [
  {
   "cell_type": "markdown",
   "id": "f02536ce",
   "metadata": {},
   "source": [
    "# List Function"
   ]
  },
  {
   "cell_type": "markdown",
   "id": "cbf16792",
   "metadata": {},
   "source": [
    "* Append"
   ]
  },
  {
   "cell_type": "markdown",
   "id": "1df7f5d1",
   "metadata": {},
   "source": [
    "# List Function ko Syntax\n",
    "\n",
    "* Syntax : Variable_name.function()"
   ]
  },
  {
   "cell_type": "markdown",
   "id": "a07574ec",
   "metadata": {},
   "source": [
    "# Append\n"
   ]
  },
  {
   "cell_type": "code",
   "execution_count": 8,
   "id": "444991d2",
   "metadata": {},
   "outputs": [
    {
     "data": {
      "text/plain": [
       "[3333]"
      ]
     },
     "execution_count": 8,
     "metadata": {},
     "output_type": "execute_result"
    }
   ],
   "source": [
    "L = []\n",
    "L.append(3333)\n",
    "L"
   ]
  },
  {
   "cell_type": "code",
   "execution_count": 9,
   "id": "372335d7",
   "metadata": {},
   "outputs": [
    {
     "data": {
      "text/plain": [
       "[3333, 2222]"
      ]
     },
     "execution_count": 9,
     "metadata": {},
     "output_type": "execute_result"
    }
   ],
   "source": [
    "L.append(2222)\n",
    "L"
   ]
  },
  {
   "cell_type": "code",
   "execution_count": 10,
   "id": "d18c5e3c",
   "metadata": {},
   "outputs": [
    {
     "data": {
      "text/plain": [
       "[3333, 2222, 'Apple']"
      ]
     },
     "execution_count": 10,
     "metadata": {},
     "output_type": "execute_result"
    }
   ],
   "source": [
    "L.append(\"Apple\")\n",
    "L"
   ]
  },
  {
   "cell_type": "markdown",
   "id": "2fc7787e",
   "metadata": {},
   "source": [
    "# Extend"
   ]
  },
  {
   "cell_type": "code",
   "execution_count": 13,
   "id": "ad324cdc",
   "metadata": {},
   "outputs": [
    {
     "data": {
      "text/plain": [
       "[1, 2, 3, 4, 5, 6, 7, 8, 'Prajwal', 2.22, True]"
      ]
     },
     "execution_count": 13,
     "metadata": {},
     "output_type": "execute_result"
    }
   ],
   "source": [
    "A = [1,2,3,4,5]\n",
    "B = [6,7,8,\"Prajwal\", 2.22,True]\n",
    "A.extend(B)\n",
    "A\n"
   ]
  },
  {
   "cell_type": "code",
   "execution_count": 17,
   "id": "2d44c7dc",
   "metadata": {},
   "outputs": [
    {
     "data": {
      "text/plain": [
       "[True, False, 1.11111, 1, 5, 6, 7, 8, True]"
      ]
     },
     "execution_count": 17,
     "metadata": {},
     "output_type": "execute_result"
    }
   ],
   "source": [
    "A = [1,5,6,7,8,True]\n",
    "C = [True,False,1.11111]\n",
    "C.extend(A)\n",
    "C"
   ]
  },
  {
   "cell_type": "code",
   "execution_count": 21,
   "id": "eda43f5e",
   "metadata": {},
   "outputs": [
    {
     "data": {
      "text/plain": [
       "[2, 4, 6, 8, 1, 2, 3, 4, 'Tree']"
      ]
     },
     "execution_count": 21,
     "metadata": {},
     "output_type": "execute_result"
    }
   ],
   "source": [
    "A = [2,4,6,8]\n",
    "A.extend([1,2,3,4,\"Tree\"])\n",
    "A"
   ]
  },
  {
   "cell_type": "markdown",
   "id": "de35a5e1",
   "metadata": {},
   "source": [
    "# Sorting "
   ]
  },
  {
   "cell_type": "code",
   "execution_count": 27,
   "id": "2de55519",
   "metadata": {},
   "outputs": [
    {
     "data": {
      "text/plain": [
       "[3, 5, 7, 8, 9.9, 11, 66.6]"
      ]
     },
     "execution_count": 27,
     "metadata": {},
     "output_type": "execute_result"
    }
   ],
   "source": [
    "a = [3,5,66.6,7,8,9.9,11]\n",
    "a.sort()\n",
    "a"
   ]
  },
  {
   "cell_type": "code",
   "execution_count": 39,
   "id": "a0ee9ab4",
   "metadata": {},
   "outputs": [
    {
     "data": {
      "text/plain": [
       "['a', 'd', 'g', 's', 'y']"
      ]
     },
     "execution_count": 39,
     "metadata": {},
     "output_type": "execute_result"
    }
   ],
   "source": [
    "S = ['a','g','d','s','y']\n",
    "S.sort()\n",
    "S"
   ]
  },
  {
   "cell_type": "code",
   "execution_count": 28,
   "id": "f45d2eb8",
   "metadata": {},
   "outputs": [
    {
     "data": {
      "text/plain": [
       "[1, 3, 4, 5.5, 6, 8.7, 9.3]"
      ]
     },
     "execution_count": 28,
     "metadata": {},
     "output_type": "execute_result"
    }
   ],
   "source": [
    "b = [1,3,4,5.5,6,8.7,9.3]\n",
    "b.sort()\n",
    "b"
   ]
  },
  {
   "cell_type": "code",
   "execution_count": 29,
   "id": "7b7b4a21",
   "metadata": {},
   "outputs": [],
   "source": [
    "# Reverse"
   ]
  },
  {
   "cell_type": "code",
   "execution_count": 30,
   "id": "64453f1d",
   "metadata": {},
   "outputs": [
    {
     "data": {
      "text/plain": [
       "[11, 1, 9, 7, 2, 4, 3]"
      ]
     },
     "execution_count": 30,
     "metadata": {},
     "output_type": "execute_result"
    }
   ],
   "source": [
    "v = [3,4,2,7,9,1,11]\n",
    "v.reverse()\n",
    "v"
   ]
  },
  {
   "cell_type": "code",
   "execution_count": 31,
   "id": "62268dcc",
   "metadata": {},
   "outputs": [
    {
     "data": {
      "text/plain": [
       "[33, 11, 9, 8, 6, 4, 3, 1]"
      ]
     },
     "execution_count": 31,
     "metadata": {},
     "output_type": "execute_result"
    }
   ],
   "source": [
    "a = [4,3,1,6,8,11,33,9]\n",
    "a.sort(reverse = True)\n",
    "a"
   ]
  },
  {
   "cell_type": "code",
   "execution_count": 35,
   "id": "25ca99a0",
   "metadata": {},
   "outputs": [
    {
     "data": {
      "text/plain": [
       "[100, 99, 88, 6, 5, 5, 3, 2, 1]"
      ]
     },
     "execution_count": 35,
     "metadata": {},
     "output_type": "execute_result"
    }
   ],
   "source": [
    "b = [3,2,5,6,88,99,100,1,5]\n",
    "b.sort( reverse = True )\n",
    "b"
   ]
  },
  {
   "cell_type": "code",
   "execution_count": 38,
   "id": "9d40fbef",
   "metadata": {},
   "outputs": [
    {
     "data": {
      "text/plain": [
       "[100, 99, 88, 6, 5, 5, 3, 2, 1]"
      ]
     },
     "execution_count": 38,
     "metadata": {},
     "output_type": "execute_result"
    }
   ],
   "source": [
    "b.reverse()\n",
    "b"
   ]
  },
  {
   "cell_type": "markdown",
   "id": "1412c23d",
   "metadata": {},
   "source": [
    "# Clear"
   ]
  },
  {
   "cell_type": "code",
   "execution_count": 41,
   "id": "06bc07f3",
   "metadata": {},
   "outputs": [
    {
     "data": {
      "text/plain": [
       "[]"
      ]
     },
     "execution_count": 41,
     "metadata": {},
     "output_type": "execute_result"
    }
   ],
   "source": [
    "g = [1,3,5,6,2,9,5,0]\n",
    "g.clear()\n",
    "g"
   ]
  },
  {
   "cell_type": "code",
   "execution_count": 42,
   "id": "a8bcf85a",
   "metadata": {},
   "outputs": [
    {
     "data": {
      "text/plain": [
       "[]"
      ]
     },
     "execution_count": 42,
     "metadata": {},
     "output_type": "execute_result"
    }
   ],
   "source": [
    "e = [\"qwerty\",1,2.2, 'True']\n",
    "e.clear()\n",
    "e"
   ]
  },
  {
   "cell_type": "markdown",
   "id": "1fc66505",
   "metadata": {},
   "source": [
    "# Pop"
   ]
  },
  {
   "cell_type": "code",
   "execution_count": 47,
   "id": "d1f549b7",
   "metadata": {},
   "outputs": [
    {
     "data": {
      "text/plain": [
       "[1, 3, 4, 7, 2, 9]"
      ]
     },
     "execution_count": 47,
     "metadata": {},
     "output_type": "execute_result"
    }
   ],
   "source": [
    "f = [1,3,4,7,2,9,10]\n",
    "f.pop()\n",
    "f"
   ]
  },
  {
   "cell_type": "code",
   "execution_count": 45,
   "id": "6472ef9a",
   "metadata": {},
   "outputs": [
    {
     "data": {
      "text/plain": [
       "['a', 'f', 'w']"
      ]
     },
     "execution_count": 45,
     "metadata": {},
     "output_type": "execute_result"
    }
   ],
   "source": [
    "d = ['a','f','w','d']\n",
    "d.pop()\n",
    "d"
   ]
  },
  {
   "cell_type": "code",
   "execution_count": 46,
   "id": "f38f821d",
   "metadata": {},
   "outputs": [
    {
     "data": {
      "text/plain": [
       "[2, 6, 3, 8]"
      ]
     },
     "execution_count": 46,
     "metadata": {},
     "output_type": "execute_result"
    }
   ],
   "source": [
    "e = [2,6,3,8,0]\n",
    "e.pop()\n",
    "e"
   ]
  },
  {
   "cell_type": "code",
   "execution_count": 48,
   "id": "0a3aca69",
   "metadata": {},
   "outputs": [
    {
     "data": {
      "text/plain": [
       "[2, 4, 1, 6, 8, 99]"
      ]
     },
     "execution_count": 48,
     "metadata": {},
     "output_type": "execute_result"
    }
   ],
   "source": [
    "r = [2,4,1,6,8,22,99]\n",
    "r.pop(5)\n",
    "r"
   ]
  },
  {
   "cell_type": "markdown",
   "id": "29437dd0",
   "metadata": {},
   "source": [
    "# Remove *\n",
    "* Yes maha xai value remove hunxa  "
   ]
  },
  {
   "cell_type": "code",
   "execution_count": 50,
   "id": "e3d02c01",
   "metadata": {},
   "outputs": [
    {
     "data": {
      "text/plain": [
       "[1, 5, 7, 9, 11, 34, 88]"
      ]
     },
     "execution_count": 50,
     "metadata": {},
     "output_type": "execute_result"
    }
   ],
   "source": [
    "e= [2,1,5,7,9,11,34,88]\n",
    "e.remove(2)\n",
    "e"
   ]
  },
  {
   "cell_type": "code",
   "execution_count": 52,
   "id": "f62e30e1",
   "metadata": {},
   "outputs": [
    {
     "data": {
      "text/plain": [
       "[3, 2, 5, 6, 1, 44, 22, 55]"
      ]
     },
     "execution_count": 52,
     "metadata": {},
     "output_type": "execute_result"
    }
   ],
   "source": [
    "w = [3,2,5,6,1,88,44,22,55]\n",
    "w.remove(88)\n",
    "w"
   ]
  },
  {
   "cell_type": "markdown",
   "id": "979283ae",
   "metadata": {},
   "source": [
    "# Copy"
   ]
  },
  {
   "cell_type": "code",
   "execution_count": 56,
   "id": "c26a8dcd",
   "metadata": {},
   "outputs": [
    {
     "data": {
      "text/plain": [
       "[2, 4, 1, 5]"
      ]
     },
     "execution_count": 56,
     "metadata": {},
     "output_type": "execute_result"
    }
   ],
   "source": [
    "f = [2,4,1,5]\n",
    "g = f.copy()\n",
    "g"
   ]
  },
  {
   "cell_type": "code",
   "execution_count": 57,
   "id": "69e66547",
   "metadata": {},
   "outputs": [
    {
     "data": {
      "text/plain": [
       "[2, 4, 6, 8, 10, 12]"
      ]
     },
     "execution_count": 57,
     "metadata": {},
     "output_type": "execute_result"
    }
   ],
   "source": [
    "d = [2,4,6,8,10,12]\n",
    "r = d.copy()\n",
    "r"
   ]
  },
  {
   "cell_type": "markdown",
   "id": "40db36fd",
   "metadata": {},
   "source": [
    "# Count"
   ]
  },
  {
   "cell_type": "code",
   "execution_count": 59,
   "id": "ca53cc25",
   "metadata": {},
   "outputs": [
    {
     "data": {
      "text/plain": [
       "4"
      ]
     },
     "execution_count": 59,
     "metadata": {},
     "output_type": "execute_result"
    }
   ],
   "source": [
    "s = [1,4,6,2,8,1,8,3,2,8,6,8,9]\n",
    "s.count(8)\n"
   ]
  },
  {
   "cell_type": "code",
   "execution_count": 60,
   "id": "bf2d6946",
   "metadata": {},
   "outputs": [
    {
     "data": {
      "text/plain": [
       "2"
      ]
     },
     "execution_count": 60,
     "metadata": {},
     "output_type": "execute_result"
    }
   ],
   "source": [
    "y = [2,4,1,7,8,9,4,442,3,3,2]\n",
    "x = 3\n",
    "y.count(x)\n"
   ]
  },
  {
   "cell_type": "code",
   "execution_count": 61,
   "id": "d9aa6b78",
   "metadata": {},
   "outputs": [
    {
     "data": {
      "text/plain": [
       "3"
      ]
     },
     "execution_count": 61,
     "metadata": {},
     "output_type": "execute_result"
    }
   ],
   "source": [
    "t = [1,222,222,444,222,444]\n",
    "t.count(t[1])"
   ]
  },
  {
   "cell_type": "markdown",
   "id": "e013823d",
   "metadata": {},
   "source": [
    "# Insert"
   ]
  },
  {
   "cell_type": "code",
   "execution_count": 62,
   "id": "8db472c7",
   "metadata": {},
   "outputs": [
    {
     "data": {
      "text/plain": [
       "[1, 15, 2, 3, 4, 5, 6]"
      ]
     },
     "execution_count": 62,
     "metadata": {},
     "output_type": "execute_result"
    }
   ],
   "source": [
    "w = [1,2,3,4,5,6]\n",
    "w.insert(1,15)\n",
    "w"
   ]
  },
  {
   "cell_type": "code",
   "execution_count": 63,
   "id": "7e2094bf",
   "metadata": {},
   "outputs": [
    {
     "data": {
      "text/plain": [
       "[2, 6, 7, 3, 1, 4, 8, 9, 10]"
      ]
     },
     "execution_count": 63,
     "metadata": {},
     "output_type": "execute_result"
    }
   ],
   "source": [
    "y = [2,6,3,1,4,8,9,10]\n",
    "y.insert(2,7)\n",
    "y"
   ]
  },
  {
   "cell_type": "markdown",
   "id": "9c321607",
   "metadata": {},
   "source": [
    "# How to update value in List"
   ]
  },
  {
   "cell_type": "code",
   "execution_count": 65,
   "id": "ee64f9bc",
   "metadata": {},
   "outputs": [
    {
     "data": {
      "text/plain": [
       "['a', 'b', 'c', 'd', 'fish']"
      ]
     },
     "execution_count": 65,
     "metadata": {},
     "output_type": "execute_result"
    }
   ],
   "source": [
    "B = ['a','b','c','d','e']\n",
    "B[4] = \"fish\"\n",
    "B\n"
   ]
  },
  {
   "cell_type": "markdown",
   "id": "80edff6e",
   "metadata": {},
   "source": [
    "# Index"
   ]
  },
  {
   "cell_type": "code",
   "execution_count": 67,
   "id": "e9ad1f7a",
   "metadata": {},
   "outputs": [
    {
     "data": {
      "text/plain": [
       "9"
      ]
     },
     "execution_count": 67,
     "metadata": {},
     "output_type": "execute_result"
    }
   ],
   "source": [
    "t = [2,4,1,6,11,12,33,77,1,11,22,99]\n",
    "t.index(11,5,10)"
   ]
  },
  {
   "cell_type": "code",
   "execution_count": 70,
   "id": "9fc590fd",
   "metadata": {},
   "outputs": [
    {
     "data": {
      "text/plain": [
       "10"
      ]
     },
     "execution_count": 70,
     "metadata": {},
     "output_type": "execute_result"
    }
   ],
   "source": [
    "f = [4,5,6,16,7,8,10,14,16,11,4,5,6,2,1,5]\n",
    "f.index(4,1,13)\n"
   ]
  },
  {
   "cell_type": "markdown",
   "id": "66bbb4b8",
   "metadata": {},
   "source": [
    "# Len Function"
   ]
  },
  {
   "cell_type": "code",
   "execution_count": 71,
   "id": "3d08031c",
   "metadata": {},
   "outputs": [
    {
     "data": {
      "text/plain": [
       "10"
      ]
     },
     "execution_count": 71,
     "metadata": {},
     "output_type": "execute_result"
    }
   ],
   "source": [
    "x = [2,4,6,1,8,3,2,9,0,10] \n",
    "len(x)"
   ]
  },
  {
   "cell_type": "markdown",
   "id": "d73fbac2",
   "metadata": {},
   "source": [
    "# Conclude\n",
    "# List is mutable\n",
    "* We can store all datatype in list.\n",
    "* List is slower than tuples.\n"
   ]
  },
  {
   "cell_type": "code",
   "execution_count": null,
   "id": "ae749ccc",
   "metadata": {},
   "outputs": [],
   "source": []
  }
 ],
 "metadata": {
  "kernelspec": {
   "display_name": "Python 3 (ipykernel)",
   "language": "python",
   "name": "python3"
  },
  "language_info": {
   "codemirror_mode": {
    "name": "ipython",
    "version": 3
   },
   "file_extension": ".py",
   "mimetype": "text/x-python",
   "name": "python",
   "nbconvert_exporter": "python",
   "pygments_lexer": "ipython3",
   "version": "3.10.5"
  }
 },
 "nbformat": 4,
 "nbformat_minor": 5
}
